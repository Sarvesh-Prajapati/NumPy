{
  "nbformat": 4,
  "nbformat_minor": 0,
  "metadata": {
    "colab": {
      "provenance": [],
      "collapsed_sections": [
        "j47j8qSGJtfr",
        "zXDy0koWKNqS",
        "2c5ivF17LyAS",
        "Bfdka3ehNb_q",
        "eFDl_GAvTJS_",
        "cMJZBbrpUeez",
        "XRflo8tQXbXn",
        "QI2hOAkmYMbF",
        "DOUn5iw6an7g",
        "orGsSnlRbfOq",
        "bmRa4oQ4hTTG",
        "JnHBf0ZHiM6m",
        "MMJeC8bLyrEc",
        "5VPdtmtDO5IJ",
        "8iJWaBeBSKdV",
        "SGNAaR5XSuBM",
        "yr6h9fjMPr7I"
      ],
      "authorship_tag": "ABX9TyMtGrtSSsLyIcEPHzu6p0Br",
      "include_colab_link": true
    },
    "kernelspec": {
      "name": "python3",
      "display_name": "Python 3"
    },
    "language_info": {
      "name": "python"
    }
  },
  "cells": [
    {
      "cell_type": "markdown",
      "metadata": {
        "id": "view-in-github",
        "colab_type": "text"
      },
      "source": [
        "<a href=\"https://colab.research.google.com/github/Sarvesh-Prajapati/NumPy/blob/main/NumPy_GYM.ipynb\" target=\"_parent\"><img src=\"https://colab.research.google.com/assets/colab-badge.svg\" alt=\"Open In Colab\"/></a>"
      ]
    },
    {
      "cell_type": "markdown",
      "source": [
        "# **NumPy**"
      ],
      "metadata": {
        "id": "OD0SijlMPdf6"
      }
    },
    {
      "cell_type": "code",
      "execution_count": 1,
      "metadata": {
        "id": "YWH14xgpMtRi"
      },
      "outputs": [],
      "source": [
        "import numpy as np"
      ]
    },
    {
      "cell_type": "code",
      "source": [
        "np.__version__   # o/p: '1.26.4'\n",
        "print(np.__version__)   # o/p: 1.26.4"
      ],
      "metadata": {
        "id": "dQLe4DS9JWkC"
      },
      "execution_count": null,
      "outputs": []
    },
    {
      "cell_type": "markdown",
      "source": [
        "###**0-D Array**"
      ],
      "metadata": {
        "id": "j47j8qSGJtfr"
      }
    },
    {
      "cell_type": "code",
      "source": [
        "arr1 = np.array(42)\n",
        "arr1  # array(42)\n",
        "arr1.dtype  # o/p: dtype('int64')"
      ],
      "metadata": {
        "id": "SVQOOrtvJdgB"
      },
      "execution_count": null,
      "outputs": []
    },
    {
      "cell_type": "markdown",
      "source": [
        "### **1D Array**"
      ],
      "metadata": {
        "id": "zXDy0koWKNqS"
      }
    },
    {
      "cell_type": "code",
      "source": [
        "arr2 = np.array((1,2,3,4,5))   # SET of int vals\n",
        "arr2  #o/p: array([1, 2, 3, 4, 5])\n",
        "print(arr2)  #o/p: [1, 2, 3, 4, 5]\n",
        "arr2.dtype  # o/p: dtype('int64')"
      ],
      "metadata": {
        "id": "zFhmXAFJJ35I"
      },
      "execution_count": null,
      "outputs": []
    },
    {
      "cell_type": "code",
      "source": [
        "ARR = np.array(['Apple', 'Banana', 'Cherry'])\n",
        "print(ARR.dtype) #O/P: <U6 ; unicode string"
      ],
      "metadata": {
        "id": "LWxgqbzwIvdI"
      },
      "execution_count": null,
      "outputs": []
    },
    {
      "cell_type": "code",
      "source": [
        "arr3 = np.array([1,2,3,4,5])   # LIST of int vals\n",
        "# print(arr3)     #O/P: [1 2 3 4 5]\n",
        "type(arr3) #O/P: 'numpy.ndarray'  ; 'type' returns the class of array\n",
        "arr3.dtype #O/P: dtype('int64')   ; 'dtype' gives the data type of the array"
      ],
      "metadata": {
        "id": "jQhe6NjlKhNt"
      },
      "execution_count": null,
      "outputs": []
    },
    {
      "cell_type": "markdown",
      "source": [
        "### **2D Array** -- List of 1D arrays"
      ],
      "metadata": {
        "id": "2c5ivF17LyAS"
      }
    },
    {
      "cell_type": "code",
      "source": [
        "arr4 = np.array([[1, 2, 3], [4, 5, 6]])\n",
        "arr4"
      ],
      "metadata": {
        "colab": {
          "base_uri": "https://localhost:8080/"
        },
        "id": "yk0iBD07K421",
        "outputId": "62adebde-ae40-4102-8ce7-7ea7e25340a5"
      },
      "execution_count": 29,
      "outputs": [
        {
          "output_type": "execute_result",
          "data": {
            "text/plain": [
              "array([[1, 2, 3],\n",
              "       [4, 5, 6]])"
            ]
          },
          "metadata": {},
          "execution_count": 29
        }
      ]
    },
    {
      "cell_type": "code",
      "source": [
        "print(arr4)"
      ],
      "metadata": {
        "colab": {
          "base_uri": "https://localhost:8080/"
        },
        "id": "sazqjsyxMOg7",
        "outputId": "48fe8464-814d-40d6-96cb-daba53c40f72"
      },
      "execution_count": 30,
      "outputs": [
        {
          "output_type": "stream",
          "name": "stdout",
          "text": [
            "[[1 2 3]\n",
            " [4 5 6]]\n"
          ]
        }
      ]
    },
    {
      "cell_type": "code",
      "source": [
        "for x in arr4: print(x) # Iterating through arr4"
      ],
      "metadata": {
        "colab": {
          "base_uri": "https://localhost:8080/"
        },
        "id": "r6CC8bLUML_i",
        "outputId": "e091a6aa-063d-45f7-e3ff-442c083ff22b"
      },
      "execution_count": 32,
      "outputs": [
        {
          "output_type": "stream",
          "name": "stdout",
          "text": [
            "[1 2 3]\n",
            "[4 5 6]\n"
          ]
        }
      ]
    },
    {
      "cell_type": "code",
      "source": [
        "print(arr4[1][2]) #o/p: 6"
      ],
      "metadata": {
        "id": "z0ffi-iKMk8R"
      },
      "execution_count": null,
      "outputs": []
    },
    {
      "cell_type": "code",
      "source": [
        "for i in range(len(arr4)):        #traverse every 1-D array list of arr4\n",
        "  for j in range(len(arr4[i])):   #traverse each element in a 1-D array list\n",
        "    print(arr4[i][j], end = ' ')  #Can also write 'print(arr4[i, j])'"
      ],
      "metadata": {
        "colab": {
          "base_uri": "https://localhost:8080/"
        },
        "id": "Lcst-RHMMlzQ",
        "outputId": "148e7c8a-c8af-478a-b882-239d5865b5de"
      },
      "execution_count": 37,
      "outputs": [
        {
          "output_type": "stream",
          "name": "stdout",
          "text": [
            "1 2 3 4 5 6 "
          ]
        }
      ]
    },
    {
      "cell_type": "code",
      "source": [
        "# NumPy enables traversing in the following way too:\n",
        "for x in arr4:\n",
        "  for y in x: print(y, end = ' ')\n"
      ],
      "metadata": {
        "colab": {
          "base_uri": "https://localhost:8080/"
        },
        "id": "0lI1q8uOMy8X",
        "outputId": "388d5431-72c3-404d-95dd-6a731ab08457"
      },
      "execution_count": 39,
      "outputs": [
        {
          "output_type": "stream",
          "name": "stdout",
          "text": [
            "1 2 3 4 5 6 "
          ]
        }
      ]
    },
    {
      "cell_type": "markdown",
      "source": [
        "### **3D Array** -- List of 2D arrays"
      ],
      "metadata": {
        "id": "Bfdka3ehNb_q"
      }
    },
    {
      "cell_type": "code",
      "source": [
        "arr5 = np.array([[[1, 2, 3],\n",
        "                  [4, 5, 6]],\n",
        "                 [[1, 2, 3],\n",
        "                  [4, 5, 6]]])\n",
        "arr5"
      ],
      "metadata": {
        "colab": {
          "base_uri": "https://localhost:8080/"
        },
        "id": "zSXGrQcDMAH_",
        "outputId": "086d9b3c-a0e6-4081-b758-8ce01ea33196"
      },
      "execution_count": 41,
      "outputs": [
        {
          "output_type": "execute_result",
          "data": {
            "text/plain": [
              "array([[[1, 2, 3],\n",
              "        [4, 5, 6]],\n",
              "\n",
              "       [[1, 2, 3],\n",
              "        [4, 5, 6]]])"
            ]
          },
          "metadata": {},
          "execution_count": 41
        }
      ]
    },
    {
      "cell_type": "code",
      "source": [
        "print(arr5)"
      ],
      "metadata": {
        "colab": {
          "base_uri": "https://localhost:8080/"
        },
        "id": "H23BfUJuOXJP",
        "outputId": "63116e98-fa3e-40db-e3a4-5af6075e4c49"
      },
      "execution_count": 42,
      "outputs": [
        {
          "output_type": "stream",
          "name": "stdout",
          "text": [
            "[[[1 2 3]\n",
            "  [4 5 6]]\n",
            "\n",
            " [[1 2 3]\n",
            "  [4 5 6]]]\n"
          ]
        }
      ]
    },
    {
      "cell_type": "code",
      "source": [
        "for x in arr5:\n",
        "  print('x is 2D array:\\n', x) #prints 2D list of arr5\n"
      ],
      "metadata": {
        "colab": {
          "base_uri": "https://localhost:8080/"
        },
        "id": "hodYBSSbOTBA",
        "outputId": "f4a16db7-7910-4f50-fc38-a70a67b1492e"
      },
      "execution_count": 43,
      "outputs": [
        {
          "output_type": "stream",
          "name": "stdout",
          "text": [
            "x is 2D array:\n",
            " [[1 2 3]\n",
            " [4 5 6]]\n",
            "x is 2D array:\n",
            " [[1 2 3]\n",
            " [4 5 6]]\n"
          ]
        }
      ]
    },
    {
      "cell_type": "code",
      "source": [
        "#-----------TRAVERSAL THROUGH EVERY INTEGER IN arr5\n",
        "for item in arr5:\n",
        "  for ele in item:\n",
        "    for x in ele: print(x, end = ' ')\n"
      ],
      "metadata": {
        "colab": {
          "base_uri": "https://localhost:8080/"
        },
        "id": "KT7I9RsZNsXY",
        "outputId": "86064baa-8061-453a-aac8-d31c9f4506d5"
      },
      "execution_count": 45,
      "outputs": [
        {
          "output_type": "stream",
          "name": "stdout",
          "text": [
            "1 2 3 4 5 6 1 2 3 4 5 6 "
          ]
        }
      ]
    },
    {
      "cell_type": "code",
      "source": [
        "#----------- TRAVERSING ANOTHER 3D ARRAY\n",
        "arr = np.array([[[1, 2, 3], [4, 5, 6]], [[7, 8, 9], [10, 11, 12]]])\n",
        "for x in arr:         #using one 'for' loop, 3D array is printed as 2D arrays\n",
        "  print('x is 2D array:\\n', x)"
      ],
      "metadata": {
        "colab": {
          "base_uri": "https://localhost:8080/"
        },
        "id": "znIe6bMrNvKa",
        "outputId": "d708b20e-0d82-43aa-b5d0-51a10798addc"
      },
      "execution_count": 46,
      "outputs": [
        {
          "output_type": "stream",
          "name": "stdout",
          "text": [
            "x is 2D array:\n",
            " [[1 2 3]\n",
            " [4 5 6]]\n",
            "x is 2D array:\n",
            " [[ 7  8  9]\n",
            " [10 11 12]]\n"
          ]
        }
      ]
    },
    {
      "cell_type": "code",
      "source": [
        "#-------------------CHECKING DIMENSION OF THE ARRAY\n",
        "a = np.array(42)\n",
        "b = np.array([1, 2, 3, 4, 5])\n",
        "c = np.array([[1, 2, 3], [4, 5, 6]])\n",
        "d = np.array([[[1, 2, 3], [4, 5, 6]], [[1, 2, 3], [4, 5, 6]]])\n",
        "\n",
        "print('A dim is :', a.ndim)\n",
        "print('B dim is :', b.ndim)\n",
        "print('C dim is :', c.ndim)\n",
        "print('D dim is :', d.ndim)"
      ],
      "metadata": {
        "colab": {
          "base_uri": "https://localhost:8080/"
        },
        "id": "9MQWXUlNN2iL",
        "outputId": "23a25976-46e4-4d8b-94e1-4c71505d6351"
      },
      "execution_count": 47,
      "outputs": [
        {
          "output_type": "stream",
          "name": "stdout",
          "text": [
            "A dim is : 0\n",
            "B dim is : 1\n",
            "C dim is : 2\n",
            "D dim is : 3\n"
          ]
        }
      ]
    },
    {
      "cell_type": "code",
      "source": [
        "'''-----------------CREATING HIGHER DIMENSIONAL ARRAYS---------'''\n",
        "\n",
        "arr = np.array([1, 2, 3, 4], ndmin = 5)\n",
        "arr                      #O/P: array[[[[[1 2 3 4]]]]]\n",
        "# for x in arr: print(x) #o/p : [[[[[1 2 3 4]]]]]\n",
        "print('Number of dimensions :', arr.ndim)  # o/p: Number of dimensions : 5"
      ],
      "metadata": {
        "id": "7nu7n2JON47e"
      },
      "execution_count": null,
      "outputs": []
    },
    {
      "cell_type": "markdown",
      "source": [
        "### **Negative Indexing & Array Slicing**"
      ],
      "metadata": {
        "id": "eFDl_GAvTJS_"
      }
    },
    {
      "cell_type": "code",
      "source": [
        "#------------ NEGATIVE INDEXING ----------------------\n",
        "\n",
        "arr = np.array([[1,2,3,4,5], [6,7,8,9,10]])\n",
        "arr[1, -1] #O/P: 10\n",
        "arr[0, -2] #O/P: 4"
      ],
      "metadata": {
        "id": "LYtWj2WHQORf"
      },
      "execution_count": null,
      "outputs": []
    },
    {
      "cell_type": "code",
      "source": [
        "\n",
        "#----------------- ARRAY SLICING ------------------------\n",
        "\n",
        "arr = np.array([1, 2, 3, 4, 5, 6, 7])\n",
        "print(arr[1:5])   # [2 3 4 5]\n",
        "print(arr[4:])    # [5 6 7]\n",
        "print(arr[:4])    # [1 2 3 4]\n",
        "print(arr[-3:-1]) # [5 6]\n",
        "print(arr[1:5:2]) # 2 is the STEP value;  o/p: [2 4]\n",
        "print(arr[::2])   # [1 3 5 7]"
      ],
      "metadata": {
        "id": "JLwjF3-XQ54M"
      },
      "execution_count": null,
      "outputs": []
    },
    {
      "cell_type": "code",
      "source": [
        "#----------------- SLICING A 2-D ARRAY -------------------\n",
        "\n",
        "arr = np.array([[1, 2, 3, 4, 5], [6, 7, 8, 9, 10]])\n",
        "print(arr[1, 1:4]) #O/P: [7 8 9]\n",
        "print(arr[0:2, 2]) #O/P: [3 8]"
      ],
      "metadata": {
        "id": "rf5KD5ceSEYP"
      },
      "execution_count": null,
      "outputs": []
    },
    {
      "cell_type": "code",
      "source": [
        "print(arr[0:2, 1:4])"
      ],
      "metadata": {
        "colab": {
          "base_uri": "https://localhost:8080/"
        },
        "id": "hUTZntXWS1HA",
        "outputId": "23be021e-d036-48f5-c6f8-65abcb64173c"
      },
      "execution_count": 66,
      "outputs": [
        {
          "output_type": "stream",
          "name": "stdout",
          "text": [
            "[[2 3 4]\n",
            " [7 8 9]]\n"
          ]
        }
      ]
    },
    {
      "cell_type": "code",
      "source": [
        "#----------------- SLICING A 3-D ARRAY -------------------\n",
        "\n",
        "threeD_arr = np.array([[[1, 2, 3], [4, 5, 6]], [[7, 8, 9], [10, 11, 12]]])\n",
        "print(threeD_arr[0, 1, 2])   # 6\n",
        "print(threeD_arr[0, 1, 1:])  # [5 6]\n",
        "print(threeD_arr[1, 0, :])   # [7 8 9]"
      ],
      "metadata": {
        "id": "hFggvbUDTUIK"
      },
      "execution_count": null,
      "outputs": []
    },
    {
      "cell_type": "markdown",
      "source": [
        "### **All data types in NumPy & Characters Used to Represent Them**"
      ],
      "metadata": {
        "id": "cMJZBbrpUeez"
      }
    },
    {
      "cell_type": "markdown",
      "source": [
        "```\n",
        "i - integer, b - boolean, u - unsigned integer, f - float, c - complex float, m - timedelta, M - datetime, O - object, S - string,\n",
        "U - unicode string, V - fixed chunk of memory for other type ( void )\n",
        "```"
      ],
      "metadata": {
        "id": "mCfdYKLfUtoo"
      }
    },
    {
      "cell_type": "code",
      "source": [
        "'''array()' fn can take an optional arg 'dtype' for defining expected data type of array elements'''\n",
        "\n",
        "arr = np.array([1,2,3,4,5], dtype = 'S')\n",
        "print(arr)       #O/P: [b'1' b'2' b'3' b'4' b'5']\n",
        "print(arr.dtype) #O/P: |S1\n",
        "\n",
        "# For i, u, f, S and U we can define the size as well\n",
        "\n",
        "arr = np.array([1,2,3,4], dtype = 'i4') # array with data type 4 bytes integer\n",
        "print(arr) #O/P: [1 2 3 4]\n",
        "print(arr.dtype) #O/P: int32\n",
        "\n"
      ],
      "metadata": {
        "id": "sEUXwaFwShmr"
      },
      "execution_count": null,
      "outputs": []
    },
    {
      "cell_type": "code",
      "source": [
        "# If a type is given in which elements can't be casted, NumPy raises 'ValueError'\n",
        "\n",
        "arr = np.array(['a', 1, 2, 3], dtype = 'i')\n",
        "# following stmts WILL NOT execute as above line causes 'ValueError'\n",
        "print(arr)\n",
        "print(arr.dtype)"
      ],
      "metadata": {
        "id": "IkvKkkd3WQ6Z"
      },
      "execution_count": 78,
      "outputs": []
    },
    {
      "cell_type": "markdown",
      "source": [
        "### **astype(): Converting the dtype of existing array**"
      ],
      "metadata": {
        "id": "XRflo8tQXbXn"
      }
    },
    {
      "cell_type": "code",
      "source": [
        "# 'astype()' fn creates copy of array, & allows to specify data type as parameter.\n",
        "\n",
        "arr = np.array([1.1, 2.2, 3.3])\n",
        "arr.dtype #O/P: float64\n",
        "newArr = arr.astype('i')  # casting as int32\n",
        "\n",
        "print(newArr)       #O/P: [1 2 3]\n",
        "print(newArr.dtype) #O/P: int32"
      ],
      "metadata": {
        "id": "HyTfqS3zV5A3"
      },
      "execution_count": null,
      "outputs": []
    },
    {
      "cell_type": "code",
      "source": [
        "newArr2 = arr.astype(int)          #converting 'arr' to integers\n",
        "print(newArr2, ',', newArr2.dtype) #O/P: [1 2 3] , int64\n",
        "\n",
        "newArr3 = np.array([1, 0, 3])\n",
        "copyNewArr3 = newArr3.astype(bool)\n",
        "print(copyNewArr3) #O/P: [ True False  True]\n",
        "print(copyNewArr3.dtype) #O/P: bool"
      ],
      "metadata": {
        "id": "3ithImRbXYXg"
      },
      "execution_count": null,
      "outputs": []
    },
    {
      "cell_type": "markdown",
      "source": [
        "### **Difference between 'copy' and 'view'**"
      ],
      "metadata": {
        "id": "QI2hOAkmYMbF"
      }
    },
    {
      "cell_type": "markdown",
      "source": [
        "```\n",
        "The 'copy' is a new array whereas the 'view' is just a view of the original array.\n",
        "Copy owns data; any changes made to copy will NOT affect original array, & vice versa.\n",
        "Any changes made to the view will affect the original array, & vice versa.\n",
        "```"
      ],
      "metadata": {
        "id": "qNr12IwdYcm1"
      }
    },
    {
      "cell_type": "code",
      "source": [
        "arr = np.array([1,2,3])\n",
        "x = arr.copy()\n",
        "print(x) #O/P: [1 2 3]\n",
        "x[1] = 4; print(x) #O/P: [1 4 3]\n",
        "print(arr) #O/P: [1 2 3] ; arr remains unchanged\n",
        "\n",
        "\n",
        "arr = np.array([1,2,3])\n",
        "y = arr.view()\n",
        "print(arr); print(y) #O/P: [1 2 3]  (for both prints)\n",
        "y[1] = 4; print(y); print(arr) #O/P: [1 4 3] (for both prints)"
      ],
      "metadata": {
        "id": "xlEcB7TwXHiA"
      },
      "execution_count": null,
      "outputs": []
    },
    {
      "cell_type": "markdown",
      "source": [
        "### **Attribute 'shape'**"
      ],
      "metadata": {
        "id": "DOUn5iw6an7g"
      }
    },
    {
      "cell_type": "markdown",
      "source": [
        "```\n",
        "'shape' returns a tuple in which each index indicates the no. of elements in each dimension\n",
        "```"
      ],
      "metadata": {
        "id": "vqXsJrZUawQE"
      }
    },
    {
      "cell_type": "code",
      "source": [
        "'''-----------Attrib 'shape' returns a tuple with each index having no. of elements corresponding to each dimension-------'''\n",
        "arr = np.array([[1, 2, 3, 4], [5, 6, 7, 8]]) #note that dimensions' lengths (4) are same\n",
        "print(arr.shape) #O/P: (2, 4) ; means array has 2 dimensions, 1st dimension has 2 elements & 2nd has 4.\n",
        "ar = np.array([1,2,3,4,5])\n",
        "print(ar.shape) #O/P: (5,) ; means 5 elements in one dimen of array 'ar'\n",
        "\n",
        "# x = np.array([[1,2],[3,4,5]]) #here dimensions' len are diff so deprecation warning is generated in o/p\n",
        "# print(x.shape)\n",
        "\n",
        "arr1 = np.array([1, 2, 3, 4], ndmin=5)\n",
        "print(arr1) #O/P: [[[[[1 2 3 4]]]]]\n",
        "print('shape of array :', arr1.shape) #O/P: shape of array : (1, 1, 1, 1, 4) ; Every integer in o/p implies no. of elements corresponding dimension has.\n",
        "#In above print's o/p, value 4 at 5th pos means 5th dimension has 4 elements.\n",
        "\n"
      ],
      "metadata": {
        "id": "np08ewuoXAfE"
      },
      "execution_count": null,
      "outputs": []
    },
    {
      "cell_type": "markdown",
      "source": [
        "### **Attribute 'reshape()'**"
      ],
      "metadata": {
        "id": "orGsSnlRbfOq"
      }
    },
    {
      "cell_type": "code",
      "source": [
        "'''The 'reshape' attrib adds/removes dimensions or changes no. of elements in each dimension.\n",
        "One can reshape array in any shape until the elements req for reshaping are equal in both shapes.'''\n",
        "\n",
        " #-------------------- Converting 1D array to 2D array ------------------------\n",
        "\n",
        "arr = np.array([1, 2, 3, 4, 5, 6, 7, 8, 9, 10, 11, 12])\n",
        "newarr = arr.reshape(4, 3) # original array is UNCHANGED\n",
        "print(newarr)"
      ],
      "metadata": {
        "colab": {
          "base_uri": "https://localhost:8080/"
        },
        "id": "i3wKaaUSXCP2",
        "outputId": "2dc56584-33db-433c-fe7b-34f5d68457df"
      },
      "execution_count": 82,
      "outputs": [
        {
          "output_type": "stream",
          "name": "stdout",
          "text": [
            "[[ 1  2  3]\n",
            " [ 4  5  6]\n",
            " [ 7  8  9]\n",
            " [10 11 12]]\n"
          ]
        }
      ]
    },
    {
      "cell_type": "code",
      "source": [
        "newarr2 = arr.reshape(3,4) # original array is UNCHANGED\n",
        "print(newarr2)"
      ],
      "metadata": {
        "colab": {
          "base_uri": "https://localhost:8080/"
        },
        "id": "kiHT5CvOcObv",
        "outputId": "aba5d03e-50de-4e99-9f7a-d186c9f27bb3"
      },
      "execution_count": 83,
      "outputs": [
        {
          "output_type": "stream",
          "name": "stdout",
          "text": [
            "[[ 1  2  3  4]\n",
            " [ 5  6  7  8]\n",
            " [ 9 10 11 12]]\n"
          ]
        }
      ]
    },
    {
      "cell_type": "code",
      "source": [
        "#------------------------ Converting 1D array to 3D array ----------------------------------\n",
        "\n",
        "arr = np.array([1,2,3,4,5,6,7,8,9,10,11,12])\n",
        "newarr = arr.reshape(3,2,2)\n",
        "print(newarr) #outermost dim has 3 arrays, each in turn contains 2 arrays having 2 elements in each; original array is UNCHANGED"
      ],
      "metadata": {
        "id": "mRsepXQhb5vZ",
        "colab": {
          "base_uri": "https://localhost:8080/"
        },
        "outputId": "1a0398bd-d77d-438e-db64-c645611e56af"
      },
      "execution_count": 84,
      "outputs": [
        {
          "output_type": "stream",
          "name": "stdout",
          "text": [
            "[[[ 1  2]\n",
            "  [ 3  4]]\n",
            "\n",
            " [[ 5  6]\n",
            "  [ 7  8]]\n",
            "\n",
            " [[ 9 10]\n",
            "  [11 12]]]\n"
          ]
        }
      ]
    },
    {
      "cell_type": "code",
      "source": [
        "newarr2 = arr.reshape(2,2,3)\n",
        "print(newarr2) #outermost dimen has 2 arrays, each in turn with 2 arrays having 3 elements in each; original array is UNCHANGED"
      ],
      "metadata": {
        "colab": {
          "base_uri": "https://localhost:8080/"
        },
        "id": "l7Ngx-hFgm3o",
        "outputId": "9738716d-9cba-4f7c-a427-142819c702d8"
      },
      "execution_count": 85,
      "outputs": [
        {
          "output_type": "stream",
          "name": "stdout",
          "text": [
            "[[[ 1  2  3]\n",
            "  [ 4  5  6]]\n",
            "\n",
            " [[ 7  8  9]\n",
            "  [10 11 12]]]\n"
          ]
        }
      ]
    },
    {
      "cell_type": "code",
      "source": [
        "#----------------- Check if the returned array is a copy or a view -------------------\n",
        "\n",
        "arr = np.array([1,2,3,4,5,6,7,8])\n",
        "print(arr.reshape(2,4).base)     # returns original array arr, so it is a view.\n"
      ],
      "metadata": {
        "colab": {
          "base_uri": "https://localhost:8080/"
        },
        "id": "rx2goEcUgw_9",
        "outputId": "d3d01137-bd38-491c-a56c-6a24365f1b0b"
      },
      "execution_count": 90,
      "outputs": [
        {
          "output_type": "stream",
          "name": "stdout",
          "text": [
            "[1 2 3 4 5 6 7 8]\n"
          ]
        }
      ]
    },
    {
      "cell_type": "markdown",
      "source": [
        "### **Unknown Dimension**"
      ],
      "metadata": {
        "id": "bmRa4oQ4hTTG"
      }
    },
    {
      "cell_type": "markdown",
      "source": [
        "```\n",
        "NumPy allows ONE \"unknown\" dimen i.e. no need to specify an exact number for ONE of the dimensions in 'reshape' method.\n",
        "Pass -1 as the value, and NumPy will calculate this number for you.\n",
        "```"
      ],
      "metadata": {
        "id": "kiZXS-IBhZC0"
      }
    },
    {
      "cell_type": "code",
      "source": [
        "# Convert 1D array with 8 elements to 3D array with 2x2 elements:\n",
        "\n",
        "arr = np.array([1, 2, 3, 4, 5, 6, 7, 8])\n",
        "print(arr.reshape(2, 2, -1))"
      ],
      "metadata": {
        "colab": {
          "base_uri": "https://localhost:8080/"
        },
        "id": "dfUEi8Q0b637",
        "outputId": "68bae5d0-9fb9-44cf-8452-05036f65177b"
      },
      "execution_count": 95,
      "outputs": [
        {
          "output_type": "stream",
          "name": "stdout",
          "text": [
            "[[[1 2]\n",
            "  [3 4]]\n",
            "\n",
            " [[5 6]\n",
            "  [7 8]]]\n"
          ]
        }
      ]
    },
    {
      "cell_type": "code",
      "source": [
        "'''----------- FLATTENING THE ARRAY: Converting multi-dimen array to 1D ----------'''\n",
        "\n",
        "arr = np.array([[1,2,3], [4,5,6]])\n",
        "print(arr.reshape(-1))    #O/P: [1 2 3 4 5 6]"
      ],
      "metadata": {
        "id": "THdFWTSZW2K4"
      },
      "execution_count": null,
      "outputs": []
    },
    {
      "cell_type": "code",
      "source": [
        "print(arr) #original array 'arr' unchanged"
      ],
      "metadata": {
        "colab": {
          "base_uri": "https://localhost:8080/"
        },
        "id": "AMk4-DwFiHdp",
        "outputId": "76e861b0-3248-4f3f-9340-b5ce7da81094"
      },
      "execution_count": 97,
      "outputs": [
        {
          "output_type": "stream",
          "name": "stdout",
          "text": [
            "[[1 2 3]\n",
            " [4 5 6]]\n"
          ]
        }
      ]
    },
    {
      "cell_type": "markdown",
      "source": [
        "### **Iterating through the array**"
      ],
      "metadata": {
        "id": "JnHBf0ZHiM6m"
      }
    },
    {
      "cell_type": "markdown",
      "source": [
        "```\n",
        "Iterating/traversal is covered above but it's not efficient; it gets slower with increase in no. of dimensions as more\n",
        "'for' loops are needed. Here, it is done with only ONE for-loop and 'nditer()' fn; works for basic and also higher dim arrays.\n",
        "```"
      ],
      "metadata": {
        "id": "699Xg_rsiSpL"
      }
    },
    {
      "cell_type": "code",
      "source": [
        "arr3D = np.array([[[1, 2], [3, 4]], [[5, 6], [7, 8]]]) # 3D array\n",
        "for x in np.nditer(arr3D):\n",
        "  print(x, end = ' ')"
      ],
      "metadata": {
        "colab": {
          "base_uri": "https://localhost:8080/"
        },
        "id": "PHxXX0xYWzuf",
        "outputId": "cf41cd29-69d2-42eb-e9ea-264439ecbc59"
      },
      "execution_count": 98,
      "outputs": [
        {
          "output_type": "stream",
          "name": "stdout",
          "text": [
            "1 2 3 4 5 6 7 8 "
          ]
        }
      ]
    },
    {
      "cell_type": "code",
      "source": [
        "arr2D = np.array([[10, 20], [30, 40]])  # 2D array\n",
        "for x in np.nditer(arr2D):\n",
        "  print(x, end = ' ')"
      ],
      "metadata": {
        "colab": {
          "base_uri": "https://localhost:8080/"
        },
        "id": "mdHd0wZriyn5",
        "outputId": "fbbdc04d-e86a-4d6f-f780-7214c9318250"
      },
      "execution_count": 99,
      "outputs": [
        {
          "output_type": "stream",
          "name": "stdout",
          "text": [
            "10 20 30 40 "
          ]
        }
      ]
    },
    {
      "cell_type": "code",
      "source": [
        "arrMulti = np.array([[10, 20], [30, 40], [50, 60, 70]]) #a 2D array with diff (inhomogeneous) sub-array sizes\n",
        "for x in np.nditer(arrMulti):\n",
        "  print(x) # generates ERROR"
      ],
      "metadata": {
        "id": "2TUHarLGizzH"
      },
      "execution_count": 100,
      "outputs": []
    },
    {
      "cell_type": "markdown",
      "source": [
        "To change datatype of array elements while iterating, use ```op_dtypes = ['expected datatype here']```.\n",
        "\n",
        "NumPy does NOT change data type of element in-place (where element is in array).\n",
        "\n",
        "It needs extra space (called buffer) to do so and in order to enable it in ```nditer()```, pass ```flags = ['buffered']```"
      ],
      "metadata": {
        "id": "mTdw6wZJl2qA"
      }
    },
    {
      "cell_type": "code",
      "source": [
        "arr = np.array([1,2,3])\n",
        "for x in np.nditer(arr, flags = ['buffered'], op_dtypes = ['S']):\n",
        "  print(x, end=' ')"
      ],
      "metadata": {
        "colab": {
          "base_uri": "https://localhost:8080/"
        },
        "id": "pQpFsEwmi2Ej",
        "outputId": "81687e6d-77c8-4efc-f253-a16d83d64db6"
      },
      "execution_count": 102,
      "outputs": [
        {
          "output_type": "stream",
          "name": "stdout",
          "text": [
            "b'1' b'2' b'3' "
          ]
        }
      ]
    },
    {
      "cell_type": "code",
      "source": [
        "print(arr)\n",
        "print([x for x in arr])  # arr remains unchanged both in vals and their dtypes"
      ],
      "metadata": {
        "colab": {
          "base_uri": "https://localhost:8080/"
        },
        "id": "76tld1w6me88",
        "outputId": "26188aa7-6257-4111-fdab-5eb6c6332725"
      },
      "execution_count": 103,
      "outputs": [
        {
          "output_type": "stream",
          "name": "stdout",
          "text": [
            "[1 2 3]\n",
            "[1, 2, 3]\n"
          ]
        }
      ]
    },
    {
      "cell_type": "code",
      "source": [
        "'''Traverse alternate array elements'''\n",
        "\n",
        "arr = np.array([[1,2,3,4], [5,6,7,8]])\n",
        "for x in np.nditer(arr[:, : : 2]):\n",
        "  print(x, end = ' ')"
      ],
      "metadata": {
        "colab": {
          "base_uri": "https://localhost:8080/"
        },
        "id": "gxHkn5WFi3SP",
        "outputId": "e197b9fd-3e0f-4480-d5c6-3a51d52cf93a"
      },
      "execution_count": 104,
      "outputs": [
        {
          "output_type": "stream",
          "name": "stdout",
          "text": [
            "1 3 5 7 "
          ]
        }
      ]
    },
    {
      "cell_type": "markdown",
      "source": [
        "### **Enumerated Iteration:** ```ndenumerate()```"
      ],
      "metadata": {
        "id": "MMJeC8bLyrEc"
      }
    },
    {
      "cell_type": "markdown",
      "source": [
        "Enumeration means mentioning the sequence number of things one by one. Sometimes we require\n",
        "corresponding index of the element while iterating, ```ndenumerate()``` can be used for those usecases."
      ],
      "metadata": {
        "id": "LdgYHxRDyv2j"
      }
    },
    {
      "cell_type": "code",
      "source": [
        "# ---------------- Enumerating through 1D array -------------------------\n",
        "\n",
        "arr = np.array([1,2,3])\n",
        "for indx, x in np.ndenumerate(arr):\n",
        "  print(indx, ' ', x)"
      ],
      "metadata": {
        "colab": {
          "base_uri": "https://localhost:8080/"
        },
        "id": "g56Rl7znWoDs",
        "outputId": "ce4f5e9f-6e60-4d78-d77e-ba30e2296439"
      },
      "execution_count": 105,
      "outputs": [
        {
          "output_type": "stream",
          "name": "stdout",
          "text": [
            "(0,)   1\n",
            "(1,)   2\n",
            "(2,)   3\n"
          ]
        }
      ]
    },
    {
      "cell_type": "markdown",
      "source": [
        "If 'indx' in above code is replaced by '*indx', indices would be printed as col of ints."
      ],
      "metadata": {
        "id": "7AHpN9QlzLi3"
      }
    },
    {
      "cell_type": "code",
      "source": [
        "arr = np.array([1,2,3])\n",
        "for indx, x in np.ndenumerate(arr):\n",
        "  print(*indx, ' ', x)"
      ],
      "metadata": {
        "colab": {
          "base_uri": "https://localhost:8080/"
        },
        "id": "0Sg1-6UNzP2s",
        "outputId": "922ad766-c53b-492e-f469-951c44dcd8fa"
      },
      "execution_count": 106,
      "outputs": [
        {
          "output_type": "stream",
          "name": "stdout",
          "text": [
            "0   1\n",
            "1   2\n",
            "2   3\n"
          ]
        }
      ]
    },
    {
      "cell_type": "code",
      "source": [
        "# --------------- Enumerating through 2D array ---------------------\n",
        "\n",
        "arr = np.array([[1,2], [5,6]])\n",
        "for indx, x in np.ndenumerate(arr):\n",
        "  print(indx, ' ', x)"
      ],
      "metadata": {
        "colab": {
          "base_uri": "https://localhost:8080/"
        },
        "id": "HXIukbAIzHAT",
        "outputId": "c1e2cacc-a6de-4635-a395-1f94831ba73b"
      },
      "execution_count": 109,
      "outputs": [
        {
          "output_type": "stream",
          "name": "stdout",
          "text": [
            "(0, 0)   1\n",
            "(0, 1)   2\n",
            "(1, 0)   5\n",
            "(1, 1)   6\n"
          ]
        }
      ]
    },
    {
      "cell_type": "markdown",
      "source": [
        "### **Joining NumPy Arrays:** ```concatenate(), stack(), hstack(), vstack(), dstack()```"
      ],
      "metadata": {
        "id": "PsFw5o0pzr_K"
      }
    },
    {
      "cell_type": "code",
      "source": [
        "#-------------------------- concatenate() --------------------------\n",
        "\n",
        "arr1 = np.array([ [1,2], [3,4] ])\n",
        "arr2 = np.array([ [5,6], [7,8] ])\n",
        "arr = np.concatenate((arr1, arr2), axis=1)  # concatenate along columns\n",
        "print(arr)"
      ],
      "metadata": {
        "colab": {
          "base_uri": "https://localhost:8080/"
        },
        "id": "DJIEp70cWhMd",
        "outputId": "1cd05125-08b3-4566-a7e3-2dd70cb316a8"
      },
      "execution_count": 113,
      "outputs": [
        {
          "output_type": "stream",
          "name": "stdout",
          "text": [
            "[[1 2 5 6]\n",
            " [3 4 7 8]]\n"
          ]
        }
      ]
    },
    {
      "cell_type": "code",
      "source": [
        "arr = np.concatenate((arr1, arr2), axis = 0)  # concatenate along rows\n",
        "print(arr)"
      ],
      "metadata": {
        "colab": {
          "base_uri": "https://localhost:8080/"
        },
        "id": "2Qdm37vy19MP",
        "outputId": "bff25630-3f52-41f7-cd5d-e24a8bf8fcf2"
      },
      "execution_count": 114,
      "outputs": [
        {
          "output_type": "stream",
          "name": "stdout",
          "text": [
            "[[1 2]\n",
            " [3 4]\n",
            " [5 6]\n",
            " [7 8]]\n"
          ]
        }
      ]
    },
    {
      "cell_type": "code",
      "source": [
        "print(np.concatenate((arr1, arr2)))   # default behavior; same as setting 'axis = 0' in above code"
      ],
      "metadata": {
        "colab": {
          "base_uri": "https://localhost:8080/"
        },
        "id": "lJlAD74y2FJg",
        "outputId": "9145f0fb-09fe-41ef-9468-3369c489f02b"
      },
      "execution_count": 116,
      "outputs": [
        {
          "output_type": "stream",
          "name": "stdout",
          "text": [
            "[[1 2]\n",
            " [3 4]\n",
            " [5 6]\n",
            " [7 8]]\n"
          ]
        }
      ]
    },
    {
      "cell_type": "code",
      "source": [
        "#-------------------------- stack() fn --------------------------\n",
        "\n",
        "# 2D ARRAY EXAMPLE\n",
        "\n",
        "arr = np.array([[1,2,3], [4,5,6]])\n",
        "print(np.stack((arr)))"
      ],
      "metadata": {
        "colab": {
          "base_uri": "https://localhost:8080/"
        },
        "id": "qnh2uwU21c1v",
        "outputId": "2167fa41-6c8a-4848-dc7e-9f5bdaca80db"
      },
      "execution_count": 119,
      "outputs": [
        {
          "output_type": "stream",
          "name": "stdout",
          "text": [
            "[[1 2 3]\n",
            " [4 5 6]]\n"
          ]
        }
      ]
    },
    {
      "cell_type": "code",
      "source": [
        "print((np.stack((arr), axis = 1)))"
      ],
      "metadata": {
        "colab": {
          "base_uri": "https://localhost:8080/"
        },
        "id": "Jtb4omKn20N3",
        "outputId": "590d50fc-01da-4b04-ae00-b13aad93cfed"
      },
      "execution_count": 118,
      "outputs": [
        {
          "output_type": "stream",
          "name": "stdout",
          "text": [
            "[[1 4]\n",
            " [2 5]\n",
            " [3 6]]\n"
          ]
        }
      ]
    },
    {
      "cell_type": "code",
      "source": [
        "# 3D ARRAY EXAMPLE\n",
        "\n",
        "ar = np.array([[[1,2,3], [4,5,6]], [[7,8,9], [10,11,12]]])\n",
        "print(np.stack((ar)))"
      ],
      "metadata": {
        "colab": {
          "base_uri": "https://localhost:8080/"
        },
        "id": "yUscnrDg2rKQ",
        "outputId": "46769ad2-2a72-4f0d-e727-691815a1dd92"
      },
      "execution_count": 120,
      "outputs": [
        {
          "output_type": "stream",
          "name": "stdout",
          "text": [
            "[[[ 1  2  3]\n",
            "  [ 4  5  6]]\n",
            "\n",
            " [[ 7  8  9]\n",
            "  [10 11 12]]]\n"
          ]
        }
      ]
    },
    {
      "cell_type": "code",
      "source": [
        "print(np.stack((ar), axis = 1))"
      ],
      "metadata": {
        "colab": {
          "base_uri": "https://localhost:8080/"
        },
        "id": "B8CH74vn3Pep",
        "outputId": "116de966-57ae-44f9-c29d-f9116f53c6e9"
      },
      "execution_count": 121,
      "outputs": [
        {
          "output_type": "stream",
          "name": "stdout",
          "text": [
            "[[[ 1  2  3]\n",
            "  [ 7  8  9]]\n",
            "\n",
            " [[ 4  5  6]\n",
            "  [10 11 12]]]\n"
          ]
        }
      ]
    },
    {
      "cell_type": "code",
      "source": [
        "print(np.stack((ar), axis = 2))"
      ],
      "metadata": {
        "colab": {
          "base_uri": "https://localhost:8080/"
        },
        "id": "bf5ql6jU3XCF",
        "outputId": "cfd88d94-d80a-4c16-cefc-b558537edffc"
      },
      "execution_count": 122,
      "outputs": [
        {
          "output_type": "stream",
          "name": "stdout",
          "text": [
            "[[[ 1  7]\n",
            "  [ 2  8]\n",
            "  [ 3  9]]\n",
            "\n",
            " [[ 4 10]\n",
            "  [ 5 11]\n",
            "  [ 6 12]]]\n"
          ]
        }
      ]
    },
    {
      "cell_type": "code",
      "source": [
        "arr1 = np.array([1,2,3])\n",
        "arr2 = np.array([4,5,6])\n",
        "arr3 = np.array([7,8,9])"
      ],
      "metadata": {
        "id": "A0M4A4HI4i3r"
      },
      "execution_count": 123,
      "outputs": []
    },
    {
      "cell_type": "code",
      "source": [
        "print(np.stack((arr1, arr2, arr3)))"
      ],
      "metadata": {
        "colab": {
          "base_uri": "https://localhost:8080/"
        },
        "id": "CZugIAaM45fE",
        "outputId": "38c5fec0-d59a-4eb4-c226-a534c90d6109"
      },
      "execution_count": 125,
      "outputs": [
        {
          "output_type": "stream",
          "name": "stdout",
          "text": [
            "[[1 2 3]\n",
            " [4 5 6]\n",
            " [7 8 9]]\n"
          ]
        }
      ]
    },
    {
      "cell_type": "code",
      "source": [
        "print(np.stack((arr1, arr2, arr3), axis = 1))"
      ],
      "metadata": {
        "colab": {
          "base_uri": "https://localhost:8080/"
        },
        "id": "dAEN7E__47rM",
        "outputId": "610a76b5-39bd-4815-df73-15db16f0e13b"
      },
      "execution_count": 126,
      "outputs": [
        {
          "output_type": "stream",
          "name": "stdout",
          "text": [
            "[[1 4 7]\n",
            " [2 5 8]\n",
            " [3 6 9]]\n"
          ]
        }
      ]
    },
    {
      "cell_type": "code",
      "source": [
        "arr1 = np.array([1,2,3])\n",
        "arr2 = np.array([4,5,6])\n",
        "arr3 = np.array([7,8,9])"
      ],
      "metadata": {
        "id": "ew5ya-7Q6qdL"
      },
      "execution_count": 127,
      "outputs": []
    },
    {
      "cell_type": "code",
      "source": [
        "#--------hstack() : stacking along rows; does NOT have an 'axis' arg\n",
        "print(np.hstack((arr1, arr2, arr3)))"
      ],
      "metadata": {
        "colab": {
          "base_uri": "https://localhost:8080/"
        },
        "id": "B_AEVijR1foL",
        "outputId": "8160647b-46d3-49c0-9b94-d4fbd726e21d"
      },
      "execution_count": 128,
      "outputs": [
        {
          "output_type": "stream",
          "name": "stdout",
          "text": [
            "[1 2 3 4 5 6 7 8 9]\n"
          ]
        }
      ]
    },
    {
      "cell_type": "code",
      "source": [
        "#--------vstack(): stacking along cols; does NOT have an 'axis' arg\n",
        "print(np.vstack((arr1, arr2)))"
      ],
      "metadata": {
        "colab": {
          "base_uri": "https://localhost:8080/"
        },
        "id": "PRehViiW1gVz",
        "outputId": "35666b1b-4fa5-4f7f-cb62-b4a805dfd4ad"
      },
      "execution_count": 129,
      "outputs": [
        {
          "output_type": "stream",
          "name": "stdout",
          "text": [
            "[[1 2 3]\n",
            " [4 5 6]]\n"
          ]
        }
      ]
    },
    {
      "cell_type": "code",
      "source": [
        "#--------dstack(): stacking along depth; does NOT have an 'axis' arg\n",
        "print(np.dstack((arr1, arr2, arr3)))"
      ],
      "metadata": {
        "colab": {
          "base_uri": "https://localhost:8080/"
        },
        "id": "qVOek_e11g5C",
        "outputId": "edc6fe94-1fdf-4c97-da81-971728ea04ee"
      },
      "execution_count": 130,
      "outputs": [
        {
          "output_type": "stream",
          "name": "stdout",
          "text": [
            "[[[1 4 7]\n",
            "  [2 5 8]\n",
            "  [3 6 9]]]\n"
          ]
        }
      ]
    },
    {
      "cell_type": "markdown",
      "source": [
        "### **NumPy Array Splitting**\n",
        "\n",
        "**For an array of length** 'L' **to be split into** 'n' **sections,** ```array_split()``` **returns** ```L%n``` **sub-arrays of size** ```L//n + 1``` **and the rest of size** ```L//n```."
      ],
      "metadata": {
        "id": "24mlmJsw7DP0"
      }
    },
    {
      "cell_type": "code",
      "source": [
        "#------------ Splitting 1D Array ------------\n",
        "arr = np.array([1,2,3,4,5,6])\n",
        "print(np.array_split(arr, 4))"
      ],
      "metadata": {
        "colab": {
          "base_uri": "https://localhost:8080/"
        },
        "id": "zu1uRbMqWduB",
        "outputId": "8da3c930-0bf6-425a-a13e-b1bece5ffd93"
      },
      "execution_count": 131,
      "outputs": [
        {
          "output_type": "stream",
          "name": "stdout",
          "text": [
            "[array([1, 2]), array([3, 4]), array([5]), array([6])]\n"
          ]
        }
      ]
    },
    {
      "cell_type": "code",
      "source": [
        "print(np.array_split(arr, 3))"
      ],
      "metadata": {
        "colab": {
          "base_uri": "https://localhost:8080/"
        },
        "id": "JfcXGUJ17w9W",
        "outputId": "e7daeb94-e4bc-42be-8456-9ff21d1dd182"
      },
      "execution_count": 132,
      "outputs": [
        {
          "output_type": "stream",
          "name": "stdout",
          "text": [
            "[array([1, 2]), array([3, 4]), array([5, 6])]\n"
          ]
        }
      ]
    },
    {
      "cell_type": "code",
      "source": [
        "print(np.array_split(arr, 7))   # no. of sub-arrays (7 here) is greater than len of array arr (6)"
      ],
      "metadata": {
        "colab": {
          "base_uri": "https://localhost:8080/"
        },
        "id": "uSbpENPv7yVq",
        "outputId": "9a3fc800-e994-4503-b5c6-2aa7ceddd440"
      },
      "execution_count": 133,
      "outputs": [
        {
          "output_type": "stream",
          "name": "stdout",
          "text": [
            "[array([1]), array([2]), array([3]), array([4]), array([5]), array([6]), array([], dtype=int64)]\n"
          ]
        }
      ]
    },
    {
      "cell_type": "code",
      "source": [
        "#=========== Iterating through the split sub-arrays ==========================\n",
        "\n",
        "x = np.array_split(arr, 2)\n",
        "for val in x:\n",
        "  print(val, end=' ')"
      ],
      "metadata": {
        "colab": {
          "base_uri": "https://localhost:8080/"
        },
        "id": "vBkUwjN37zuj",
        "outputId": "ea0c2f10-2e97-4691-8ed6-728517dec455"
      },
      "execution_count": 134,
      "outputs": [
        {
          "output_type": "stream",
          "name": "stdout",
          "text": [
            "[1 2 3] [4 5 6] "
          ]
        }
      ]
    },
    {
      "cell_type": "code",
      "source": [
        "#------------ Splitting 2D Arrays ------------\n",
        "\n",
        "arr = np.array([[1, 2], [3, 4], [5, 6], [7, 8], [9, 10], [11, 12]])\n",
        "print(np.array_split(arr, 3))"
      ],
      "metadata": {
        "colab": {
          "base_uri": "https://localhost:8080/"
        },
        "id": "kdgQ3WVv71Ov",
        "outputId": "4cfbb19c-926c-4ac1-cfe6-33fdd0af55f5"
      },
      "execution_count": 135,
      "outputs": [
        {
          "output_type": "stream",
          "name": "stdout",
          "text": [
            "[array([[1, 2],\n",
            "       [3, 4]]), array([[5, 6],\n",
            "       [7, 8]]), array([[ 9, 10],\n",
            "       [11, 12]])]\n"
          ]
        }
      ]
    },
    {
      "cell_type": "code",
      "source": [
        "x = np.array_split(arr, 3)\n",
        "print('x is :', x, '\\n')\n",
        "print('First item is:\\n', x[0])"
      ],
      "metadata": {
        "colab": {
          "base_uri": "https://localhost:8080/"
        },
        "id": "QOXu-0Cz-wV6",
        "outputId": "b05b8d3e-6bc0-4b33-b108-1453616b0010"
      },
      "execution_count": 143,
      "outputs": [
        {
          "output_type": "stream",
          "name": "stdout",
          "text": [
            "x is : [array([[1, 2],\n",
            "       [3, 4]]), array([[5, 6],\n",
            "       [7, 8]]), array([[ 9, 10],\n",
            "       [11, 12]])] \n",
            "\n",
            "First item is:\n",
            " [[1 2]\n",
            " [3 4]]\n"
          ]
        }
      ]
    },
    {
      "cell_type": "code",
      "source": [
        "print(x[0][0], x[0][1])"
      ],
      "metadata": {
        "colab": {
          "base_uri": "https://localhost:8080/"
        },
        "id": "zhAhnKQH_RZ9",
        "outputId": "166a8d79-8a88-4aaf-b59d-3bcbba3a4868"
      },
      "execution_count": 137,
      "outputs": [
        {
          "output_type": "stream",
          "name": "stdout",
          "text": [
            "[1 2] [3 4]\n"
          ]
        }
      ]
    },
    {
      "cell_type": "code",
      "source": [
        "print(x[1])"
      ],
      "metadata": {
        "colab": {
          "base_uri": "https://localhost:8080/"
        },
        "id": "bjBnpoiS_Uh8",
        "outputId": "a009b5a9-3f0f-4847-f140-8832a18986c3"
      },
      "execution_count": 138,
      "outputs": [
        {
          "output_type": "stream",
          "name": "stdout",
          "text": [
            "[[5 6]\n",
            " [7 8]]\n"
          ]
        }
      ]
    },
    {
      "cell_type": "code",
      "source": [
        "print(x[1][0], x[1][1])"
      ],
      "metadata": {
        "colab": {
          "base_uri": "https://localhost:8080/"
        },
        "id": "DRsBOrEd_XeP",
        "outputId": "61a94899-2aaf-461c-f383-e5934b547c7f"
      },
      "execution_count": 139,
      "outputs": [
        {
          "output_type": "stream",
          "name": "stdout",
          "text": [
            "[5 6] [7 8]\n"
          ]
        }
      ]
    },
    {
      "cell_type": "code",
      "source": [
        "#------------ Another example of 2D array splitting ------------\n",
        "\n",
        "arr = np.array([[1, 2, 3], [4, 5, 6], [7, 8, 9], [10, 11, 12], [13, 14, 15], [16, 17, 18]])\n",
        "x = np.array_split(arr, 3)"
      ],
      "metadata": {
        "id": "qqMHato672my"
      },
      "execution_count": 144,
      "outputs": []
    },
    {
      "cell_type": "code",
      "source": [
        "print(x)"
      ],
      "metadata": {
        "colab": {
          "base_uri": "https://localhost:8080/"
        },
        "id": "9WP6pY2OBoI1",
        "outputId": "8319e230-33a0-4ce9-deb0-297943b9916c"
      },
      "execution_count": 145,
      "outputs": [
        {
          "output_type": "stream",
          "name": "stdout",
          "text": [
            "[array([[1, 2, 3],\n",
            "       [4, 5, 6]]), array([[ 7,  8,  9],\n",
            "       [10, 11, 12]]), array([[13, 14, 15],\n",
            "       [16, 17, 18]])]\n"
          ]
        }
      ]
    },
    {
      "cell_type": "code",
      "source": [
        "print(x[0])"
      ],
      "metadata": {
        "colab": {
          "base_uri": "https://localhost:8080/"
        },
        "id": "NzxPtZwSBpRI",
        "outputId": "6c9bd4fc-197e-4474-8521-5663f6c8beba"
      },
      "execution_count": 146,
      "outputs": [
        {
          "output_type": "stream",
          "name": "stdout",
          "text": [
            "[[1 2 3]\n",
            " [4 5 6]]\n"
          ]
        }
      ]
    },
    {
      "cell_type": "code",
      "source": [
        "print(x[0][0]) #O/P: [1 2 3]\n",
        "print(x[0][0][0]) #O/P: 1"
      ],
      "metadata": {
        "id": "D7dI_0OTBp-V"
      },
      "execution_count": null,
      "outputs": []
    },
    {
      "cell_type": "code",
      "source": [
        "print(np.array_split(arr, 4))"
      ],
      "metadata": {
        "colab": {
          "base_uri": "https://localhost:8080/"
        },
        "id": "LxWXHu3XBtip",
        "outputId": "00d1338b-1b49-4208-d220-b3d07925b391"
      },
      "execution_count": 147,
      "outputs": [
        {
          "output_type": "stream",
          "name": "stdout",
          "text": [
            "[array([[1, 2, 3],\n",
            "       [4, 5, 6]]), array([[ 7,  8,  9],\n",
            "       [10, 11, 12]]), array([[13, 14, 15]]), array([[16, 17, 18]])]\n"
          ]
        }
      ]
    },
    {
      "cell_type": "code",
      "source": [
        "#--------Example below returns three 2-D arrays (like above one), but they are split along axis=1.\n",
        "arr = np.array([[1, 2, 3], [4, 5, 6], [7, 8, 9], [10, 11, 12], [13, 14, 15], [16, 17, 18]])\n",
        "x = np.array_split(arr, 3, axis=1)\n",
        "x"
      ],
      "metadata": {
        "colab": {
          "base_uri": "https://localhost:8080/"
        },
        "id": "e339UgSD75OL",
        "outputId": "9a769360-a8f8-4d35-f4a8-3e8daabb95b0"
      },
      "execution_count": 156,
      "outputs": [
        {
          "output_type": "execute_result",
          "data": {
            "text/plain": [
              "[array([[ 1],\n",
              "        [ 4],\n",
              "        [ 7],\n",
              "        [10],\n",
              "        [13],\n",
              "        [16]]),\n",
              " array([[ 2],\n",
              "        [ 5],\n",
              "        [ 8],\n",
              "        [11],\n",
              "        [14],\n",
              "        [17]]),\n",
              " array([[ 3],\n",
              "        [ 6],\n",
              "        [ 9],\n",
              "        [12],\n",
              "        [15],\n",
              "        [18]])]"
            ]
          },
          "metadata": {},
          "execution_count": 156
        }
      ]
    },
    {
      "cell_type": "code",
      "source": [
        "#------- hsplit() method to split the 2-D array into three 2-D arrays\n",
        "\n",
        "arr = np.array([[1, 2, 3], [4, 5, 6], [7, 8, 9], [10, 11, 12], [13, 14, 15], [16, 17, 18]])\n",
        "x = np.hsplit(arr, 3)       # vsplit() and dsplit() are also there, dsplit() works ONLY on 3D or higher dimen array\n",
        "x"
      ],
      "metadata": {
        "colab": {
          "base_uri": "https://localhost:8080/"
        },
        "id": "MT3fAI_I77r2",
        "outputId": "cb65257e-0f40-4a82-d853-fdc104535673"
      },
      "execution_count": 155,
      "outputs": [
        {
          "output_type": "execute_result",
          "data": {
            "text/plain": [
              "[array([[ 1],\n",
              "        [ 4],\n",
              "        [ 7],\n",
              "        [10],\n",
              "        [13],\n",
              "        [16]]),\n",
              " array([[ 2],\n",
              "        [ 5],\n",
              "        [ 8],\n",
              "        [11],\n",
              "        [14],\n",
              "        [17]]),\n",
              " array([[ 3],\n",
              "        [ 6],\n",
              "        [ 9],\n",
              "        [12],\n",
              "        [15],\n",
              "        [18]])]"
            ]
          },
          "metadata": {},
          "execution_count": 155
        }
      ]
    },
    {
      "cell_type": "code",
      "source": [
        "#----------------- vsplit() ----------------\n",
        "\n",
        "arr = np.array([[1, 2, 3], [4, 5, 6], [7, 8, 9], [10, 11, 12], [13, 14, 15], [16, 17, 18]])\n",
        "x = np.vsplit(arr, 3)\n",
        "x"
      ],
      "metadata": {
        "colab": {
          "base_uri": "https://localhost:8080/"
        },
        "id": "AgALWFZIJZ5g",
        "outputId": "e15b1281-53aa-422d-8187-f904c1ecb48b"
      },
      "execution_count": 154,
      "outputs": [
        {
          "output_type": "execute_result",
          "data": {
            "text/plain": [
              "[array([[1, 2, 3],\n",
              "        [4, 5, 6]]),\n",
              " array([[ 7,  8,  9],\n",
              "        [10, 11, 12]]),\n",
              " array([[13, 14, 15],\n",
              "        [16, 17, 18]])]"
            ]
          },
          "metadata": {},
          "execution_count": 154
        }
      ]
    },
    {
      "cell_type": "markdown",
      "source": [
        "### **Searching in NumPy Arrays:** -- where()"
      ],
      "metadata": {
        "id": "5VPdtmtDO5IJ"
      }
    },
    {
      "cell_type": "code",
      "source": [
        "# 'where()' returns a TUPLE OF INDICES that have the match for the search in array\n",
        "\n",
        "arr = np.array([1, 2, 3, 4, 5, 4, 4])\n",
        "np.where(arr == 4)"
      ],
      "metadata": {
        "colab": {
          "base_uri": "https://localhost:8080/"
        },
        "id": "e92H0XdGWa72",
        "outputId": "71bcd469-1371-4d80-9338-986e71cc4eb0"
      },
      "execution_count": 158,
      "outputs": [
        {
          "output_type": "execute_result",
          "data": {
            "text/plain": [
              "(array([3, 5, 6]),)"
            ]
          },
          "metadata": {},
          "execution_count": 158
        }
      ]
    },
    {
      "cell_type": "code",
      "source": [
        "# Find the indices where the values are even and odd\n",
        "\n",
        "print(np.where(arr % 2 == 0))\n",
        "print(np.where(arr % 2 == 1))"
      ],
      "metadata": {
        "colab": {
          "base_uri": "https://localhost:8080/"
        },
        "id": "eXEshY_YPHBu",
        "outputId": "7d1a8a51-4a24-4b60-a58b-c6bb5392ea41"
      },
      "execution_count": 159,
      "outputs": [
        {
          "output_type": "stream",
          "name": "stdout",
          "text": [
            "(array([1, 3, 5, 6]),)\n",
            "(array([0, 2, 4]),)\n"
          ]
        }
      ]
    },
    {
      "cell_type": "markdown",
      "source": [
        "#### **searchsorted()**"
      ],
      "metadata": {
        "id": "V1o3zuq7PpfP"
      }
    },
    {
      "cell_type": "markdown",
      "source": [
        "```searchsorted()``` **begins search from left/right (if attrib** ```side = 'left'``` **or** ```side = 'right'```**) & returns 1st index where no. is no more/less than next value. Also,** ```searchsorted()``` **is to be used ONLY ON A SORTED ARRAY. Indexing from LHS starts at 0, while from RHS, at 1.**\n",
        "\n",
        "```Note that this method DOES NOT sort the array.```"
      ],
      "metadata": {
        "id": "YAA4WejoP3Ll"
      }
    },
    {
      "cell_type": "code",
      "source": [
        "# Finding the index (starting frm 0) in array where 5 should be inserted\n",
        "\n",
        "ar = np.array([1,2,3,3,6,7,8])   # note that the array is sorted, a req for searchsorted() fn\n",
        "print(np.searchsorted(ar, 5))\n",
        "print(np.searchsorted(ar, 5, side ='right'))"
      ],
      "metadata": {
        "colab": {
          "base_uri": "https://localhost:8080/"
        },
        "id": "u53m5UF2PUTw",
        "outputId": "0e009fd4-620c-43db-da14-57b5a18aae80"
      },
      "execution_count": 162,
      "outputs": [
        {
          "output_type": "stream",
          "name": "stdout",
          "text": [
            "4\n",
            "4\n"
          ]
        }
      ]
    },
    {
      "cell_type": "code",
      "source": [
        "br = np.array([6,7,8,8,9,19])\n",
        "print(np.searchsorted(br, 8))\n",
        "print(np.searchsorted(br, 8, side ='right'))"
      ],
      "metadata": {
        "colab": {
          "base_uri": "https://localhost:8080/"
        },
        "id": "Sc1lI_YiQnM3",
        "outputId": "32a0459a-b780-4ae5-f307-3c6a1b63c4fd"
      },
      "execution_count": 163,
      "outputs": [
        {
          "output_type": "stream",
          "name": "stdout",
          "text": [
            "2\n",
            "4\n"
          ]
        }
      ]
    },
    {
      "cell_type": "code",
      "source": [
        "#-------------------- searchsorted() for multiple numbers -------------------------\n",
        "\n",
        "arr = np.array([1, 3, 5, 7])\n",
        "x = np.searchsorted(arr, [2, 4, 6])\n",
        "print(x)"
      ],
      "metadata": {
        "colab": {
          "base_uri": "https://localhost:8080/"
        },
        "id": "U53eCF0PQpFk",
        "outputId": "4330353e-215f-4767-e434-4e91cd7a91de"
      },
      "execution_count": 164,
      "outputs": [
        {
          "output_type": "stream",
          "name": "stdout",
          "text": [
            "[1 2 3]\n"
          ]
        }
      ]
    },
    {
      "cell_type": "markdown",
      "source": [
        "### **Sorting NumPy Arrays**"
      ],
      "metadata": {
        "id": "8iJWaBeBSKdV"
      }
    },
    {
      "cell_type": "code",
      "source": [
        "import numpy as np"
      ],
      "metadata": {
        "id": "BNAJlwROWZF8"
      },
      "execution_count": null,
      "outputs": []
    },
    {
      "cell_type": "code",
      "source": [
        "arr = np.array([3, 2, 0, 1])\n",
        "print(np.sort(arr)) #sort() method RETURNS A COPY of array, leaving original array unchanged."
      ],
      "metadata": {
        "colab": {
          "base_uri": "https://localhost:8080/"
        },
        "id": "9wOHEoJnSQZc",
        "outputId": "87cd3819-b69a-43c8-9070-0e866f4fbaa4"
      },
      "execution_count": 165,
      "outputs": [
        {
          "output_type": "stream",
          "name": "stdout",
          "text": [
            "[0 1 2 3]\n"
          ]
        }
      ]
    },
    {
      "cell_type": "code",
      "source": [
        "ars = np.array(['banana', 'cherry', 'apple'])\n",
        "print(np.sort(ars))"
      ],
      "metadata": {
        "colab": {
          "base_uri": "https://localhost:8080/"
        },
        "id": "eByUgNxNSTjE",
        "outputId": "fcbbbd6b-3eb3-41f7-9f21-bb36a830bfa1"
      },
      "execution_count": 166,
      "outputs": [
        {
          "output_type": "stream",
          "name": "stdout",
          "text": [
            "['apple' 'banana' 'cherry']\n"
          ]
        }
      ]
    },
    {
      "cell_type": "code",
      "source": [
        "arb = np.array([True, False, True]) #array of booleans\n",
        "print(np.sort(arb))"
      ],
      "metadata": {
        "colab": {
          "base_uri": "https://localhost:8080/"
        },
        "id": "7EmvfESHSUgs",
        "outputId": "68510549-52b3-4b32-adaf-8d67802b0719"
      },
      "execution_count": 167,
      "outputs": [
        {
          "output_type": "stream",
          "name": "stdout",
          "text": [
            "[False  True  True]\n"
          ]
        }
      ]
    },
    {
      "cell_type": "code",
      "source": [
        "arr2D = np.array([[3, 2, 4], [5, 0, 1]])  # 2D array\n",
        "print(np.sort(arr2D))"
      ],
      "metadata": {
        "colab": {
          "base_uri": "https://localhost:8080/"
        },
        "id": "aQPvjgR1SVa9",
        "outputId": "049e0dbe-8e81-4ce5-e399-a328e29fd0ce"
      },
      "execution_count": 168,
      "outputs": [
        {
          "output_type": "stream",
          "name": "stdout",
          "text": [
            "[[2 3 4]\n",
            " [0 1 5]]\n"
          ]
        }
      ]
    },
    {
      "cell_type": "code",
      "source": [
        "arr3D = np.array([[[2,1], [4,3]], [[6,5],[8,7]]]) #3D array\n",
        "print(np.sort(arr3D))"
      ],
      "metadata": {
        "colab": {
          "base_uri": "https://localhost:8080/"
        },
        "id": "4OUzG6APSWMz",
        "outputId": "21afbd57-6367-4933-e398-21330ea89317"
      },
      "execution_count": 169,
      "outputs": [
        {
          "output_type": "stream",
          "name": "stdout",
          "text": [
            "[[[1 2]\n",
            "  [3 4]]\n",
            "\n",
            " [[5 6]\n",
            "  [7 8]]]\n"
          ]
        }
      ]
    },
    {
      "cell_type": "markdown",
      "source": [
        "### **Filtering NumPy Arrays**"
      ],
      "metadata": {
        "id": "SGNAaR5XSuBM"
      }
    },
    {
      "cell_type": "markdown",
      "source": [
        "Getting some elements out of an existing array and creating a new array out of them is called filtering. In NumPy, you filter an array\n",
        "using a boolean index list. A boolean index list is a list of booleans corresponding to indexes in the array.\n",
        "If the value at an index is ```True``` that element is contained in the filtered array, if the value at that index is ```False```, that element is\n",
        "excluded from the filtered array."
      ],
      "metadata": {
        "id": "fkyZahM0S5FF"
      }
    },
    {
      "cell_type": "code",
      "source": [
        "import numpy as np\n",
        "arr = np.array([41,42,43,46])\n",
        "x = [True, False, True, False]\n",
        "print(arr[x])\n",
        "print(arr[[False, True, False, True]])"
      ],
      "metadata": {
        "colab": {
          "base_uri": "https://localhost:8080/"
        },
        "id": "ijaY-aPpWWEi",
        "outputId": "9097a44a-60f7-4cf4-e658-b82ad7425e83"
      },
      "execution_count": 3,
      "outputs": [
        {
          "output_type": "stream",
          "name": "stdout",
          "text": [
            "[41 43]\n",
            "[42 46]\n"
          ]
        }
      ]
    },
    {
      "cell_type": "code",
      "source": [
        "#------ Create a filter array that will return only values higher than 42 ------------\n",
        "\n",
        "arr = np.array([40, 41, 42, 43, 30, 44, 47])\n",
        "filter_arr = []\n",
        "for ele in arr:\n",
        "  if ele > 42: filter_arr.append(True)\n",
        "  else: filter_arr.append(False)\n",
        "newArr = arr[filter_arr]\n",
        "\n",
        "print(arr)\n",
        "print(filter_arr)\n",
        "print(newArr)"
      ],
      "metadata": {
        "colab": {
          "base_uri": "https://localhost:8080/"
        },
        "id": "--rPFyNXtyre",
        "outputId": "2c0747aa-cd2e-4845-e601-bb82d10cff03"
      },
      "execution_count": 4,
      "outputs": [
        {
          "output_type": "stream",
          "name": "stdout",
          "text": [
            "[40 41 42 43 30 44 47]\n",
            "[False, False, False, True, False, True, True]\n",
            "[43 44 47]\n"
          ]
        }
      ]
    },
    {
      "cell_type": "code",
      "source": [
        "#-------- Above code in another way ----------------------\n",
        "\n",
        "arr = np.array([40, 41, 42, 43, 30, 44, 47])\n",
        "filter_arr = arr > 42\n",
        "newArr = arr[filter_arr]\n",
        "print(filter_arr)\n",
        "print(newArr)"
      ],
      "metadata": {
        "colab": {
          "base_uri": "https://localhost:8080/"
        },
        "id": "TxFK2cFCulvQ",
        "outputId": "45ee0768-8f84-4364-bf55-e8d4d52a0b85"
      },
      "execution_count": 6,
      "outputs": [
        {
          "output_type": "stream",
          "name": "stdout",
          "text": [
            "[False False False  True False  True  True]\n",
            "[43 44 47]\n"
          ]
        }
      ]
    },
    {
      "cell_type": "code",
      "source": [
        "#------- Direct way\n",
        "arr = np.array([40, 41, 42, 43, 30, 44, 47])\n",
        "print([arr[arr > 42]])\n",
        "print(*[arr[arr > 42]])\n",
        "print(*[arr[arr % 2 == 0]]) # ONLY even numbers in array"
      ],
      "metadata": {
        "colab": {
          "base_uri": "https://localhost:8080/"
        },
        "id": "VFXgD9sPvGrx",
        "outputId": "5d7f13ae-6346-4c0f-99ff-cf36f7221ce6"
      },
      "execution_count": 7,
      "outputs": [
        {
          "output_type": "stream",
          "name": "stdout",
          "text": [
            "[array([43, 44, 47])]\n",
            "[43 44 47]\n",
            "[40 42 30 44]\n"
          ]
        }
      ]
    },
    {
      "cell_type": "markdown",
      "source": [
        "# **NumPy Random**"
      ],
      "metadata": {
        "id": "yr6h9fjMPr7I"
      }
    },
    {
      "cell_type": "markdown",
      "source": [
        "Random number does **NOT** mean a different number every time. Random means something that can not be predicted logically.\n",
        "\n",
        "If there is a program to generate random number, it can be predicted & thus it is not truly random. Random numbers generated through a generation\n",
        "algorithm are called **pseudo random**."
      ],
      "metadata": {
        "id": "gOIT8RkAxOQ3"
      }
    },
    {
      "cell_type": "code",
      "source": [
        "\n",
        "# ------------------------------ GENERATING RANDOM INTS AND FLOATS -------------\n",
        "\n",
        "from numpy import random"
      ],
      "metadata": {
        "id": "k_m8h0foPntR"
      },
      "execution_count": 8,
      "outputs": []
    },
    {
      "cell_type": "markdown",
      "source": [
        "Run each of the following cells few times to see how o/p changes always:"
      ],
      "metadata": {
        "id": "mZIx_gbSyz9D"
      }
    },
    {
      "cell_type": "code",
      "source": [
        "x = random.randint(100) #any random int < 100\n",
        "print(x)"
      ],
      "metadata": {
        "colab": {
          "base_uri": "https://localhost:8080/"
        },
        "id": "h_I7Dzl1xrwy",
        "outputId": "a3440c04-eee0-42f2-e7c9-15177eeaf6d6"
      },
      "execution_count": 10,
      "outputs": [
        {
          "output_type": "stream",
          "name": "stdout",
          "text": [
            "83\n"
          ]
        }
      ]
    },
    {
      "cell_type": "code",
      "source": [
        "y = random.randint(100, size=(5)) #random list of array of 5 ints\n",
        "print(y)"
      ],
      "metadata": {
        "colab": {
          "base_uri": "https://localhost:8080/"
        },
        "id": "sE7FSjSvxvVO",
        "outputId": "aaaf5b82-1201-4ae6-c232-adb71214b0f6"
      },
      "execution_count": 13,
      "outputs": [
        {
          "output_type": "stream",
          "name": "stdout",
          "text": [
            "[37 17 56 55 29]\n"
          ]
        }
      ]
    },
    {
      "cell_type": "code",
      "source": [
        "yy = random.randint(100, size=(3, 5)) #3 X 5 2D-array in list of random ints\n",
        "print(yy)"
      ],
      "metadata": {
        "colab": {
          "base_uri": "https://localhost:8080/"
        },
        "id": "1YxBBNuRxwd9",
        "outputId": "c4d2c14b-a7ba-40cd-c9a6-5c82c90cf1b4"
      },
      "execution_count": 16,
      "outputs": [
        {
          "output_type": "stream",
          "name": "stdout",
          "text": [
            "[[40  6 41 24 21]\n",
            " [15 48 58 99 38]\n",
            " [96 85 81  5  9]]\n"
          ]
        }
      ]
    },
    {
      "cell_type": "code",
      "source": [
        "z = random.rand() #assigns a list of ONE random float no. from interval [0, 1) to z\n",
        "print(z)"
      ],
      "metadata": {
        "colab": {
          "base_uri": "https://localhost:8080/"
        },
        "id": "1nHXgEcSxxOm",
        "outputId": "bae65ea0-ee74-440d-9476-2f3e0e698597"
      },
      "execution_count": 23,
      "outputs": [
        {
          "output_type": "stream",
          "name": "stdout",
          "text": [
            "0.7957595996799769\n"
          ]
        }
      ]
    },
    {
      "cell_type": "code",
      "source": [
        "a = random.rand(3) #assigns a list of THREE random floats from interval [0, 1) to a\n",
        "print(a)"
      ],
      "metadata": {
        "colab": {
          "base_uri": "https://localhost:8080/"
        },
        "id": "HJCDspohxyBE",
        "outputId": "fbc655de-2e78-4891-b4b0-5914fb860fae"
      },
      "execution_count": 25,
      "outputs": [
        {
          "output_type": "stream",
          "name": "stdout",
          "text": [
            "[0.35676559 0.96961748 0.71010022]\n"
          ]
        }
      ]
    },
    {
      "cell_type": "code",
      "source": [
        "b = random.rand(3, 5) #3X5 2-D list of random floats\n",
        "print(b)"
      ],
      "metadata": {
        "colab": {
          "base_uri": "https://localhost:8080/"
        },
        "id": "tI5wdD2Uxy-R",
        "outputId": "1d5860fa-03dd-432f-88e9-3d7cdcf3bee3"
      },
      "execution_count": 26,
      "outputs": [
        {
          "output_type": "stream",
          "name": "stdout",
          "text": [
            "[[0.81868049 0.50425547 0.33219874 0.95963994 0.7729374 ]\n",
            " [0.16523645 0.34381699 0.65465903 0.93908679 0.07746428]\n",
            " [0.84645546 0.18733576 0.21650963 0.86116921 0.39752267]]\n"
          ]
        }
      ]
    },
    {
      "cell_type": "code",
      "source": [
        "'''----------------------------GENERATING RANDOM INTS FROM AN ARRAY: THE choice() METHOD --------------'''\n",
        "#choice() method takes an array as a parameter and randomly returns one of the values.\n",
        "x = random.choice([3, 5, 7, 9])\n",
        "print(x)\n"
      ],
      "metadata": {
        "colab": {
          "base_uri": "https://localhost:8080/"
        },
        "id": "qJbZ8zN5x0Fi",
        "outputId": "1d16efa7-3d5d-4c22-e118-b21192eac8d5"
      },
      "execution_count": 33,
      "outputs": [
        {
          "output_type": "stream",
          "name": "stdout",
          "text": [
            "5\n"
          ]
        }
      ]
    },
    {
      "cell_type": "code",
      "source": [
        "y = random.choice([3, 5, 7, 9], size = (3, 5)) #3X5 2D-arrays in list of random no. taken from the array in 'choice' fn\n",
        "print(y)"
      ],
      "metadata": {
        "colab": {
          "base_uri": "https://localhost:8080/"
        },
        "id": "Iw5TgoTGx1NX",
        "outputId": "96393de7-f1da-4f1b-ffce-a7829af1e17b"
      },
      "execution_count": 36,
      "outputs": [
        {
          "output_type": "stream",
          "name": "stdout",
          "text": [
            "[[3 7 9 5 9]\n",
            " [9 5 5 5 5]\n",
            " [5 7 5 5 3]]\n"
          ]
        }
      ]
    },
    {
      "cell_type": "markdown",
      "source": [
        "----------------------------------------- **RANDOM DATA DISTRIBUTION** ---------------------------------------\n",
        "\n",
        "Data Distribution is a LIST of all possible values, & how often each value occurs. Such lists are imp when working with statistics & data science.\n",
        "The random module offers methods that returns randomly generated data distributions.\n",
        "\n",
        "**RANDOM DISTRIBUTION:** A random distribution is a set of random numbers that follow a certain 'probability density function' that describes a continuous probability. i.e. probability of all values in an array. We can generate random numbers based on defined probabilities using the ```choice()``` method of the ```random``` module.\n",
        "\n",
        "The ```choice()``` method allows us to specify the probability for each value. The probability is set by a number between 0 and 1, where 0 means that the value will never occur and 1 means that the value will always occur.\n"
      ],
      "metadata": {
        "id": "2xg_MO49x14i"
      }
    },
    {
      "cell_type": "code",
      "source": [
        "'''Generate a 1-D array containing 100 values, where each value has to be 3, 5, 7 or 9. Specifiy individual probabilities of these nos.'''\n",
        "\n",
        "from numpy import random\n",
        "x = random.choice([3,5,7,9], p = [0.1, 0.3, 0.4, 0.2], size = (100)) #probability is represented by 'p' and all its values MUST ADD TO 1.\n",
        "print(x)"
      ],
      "metadata": {
        "colab": {
          "base_uri": "https://localhost:8080/"
        },
        "id": "rYFAz61B01OX",
        "outputId": "30d4e8b2-b226-4b7e-a339-d1414b92292f"
      },
      "execution_count": 39,
      "outputs": [
        {
          "output_type": "stream",
          "name": "stdout",
          "text": [
            "[3 7 7 9 9 7 7 7 3 5 9 7 7 9 7 7 7 9 7 7 7 5 5 7 9 5 5 5 5 9 7 3 7 5 5 5 7\n",
            " 7 9 5 5 9 7 5 7 5 7 7 9 7 7 7 7 5 5 5 5 7 9 7 7 9 7 5 7 7 7 7 3 7 5 7 5 5\n",
            " 9 7 5 5 5 5 7 3 3 9 5 9 5 9 5 7 7 5 7 3 5 5 3 7 7 9]\n"
          ]
        }
      ]
    },
    {
      "cell_type": "code",
      "source": [
        "# Printing a randomly distributed 2D array by specifying 'size()' values\n",
        "x = random.choice([3, 5, 7, 9], p = [0.1, 0.3, 0.4, 0.2], size=(3, 5))\n",
        "print(x)"
      ],
      "metadata": {
        "colab": {
          "base_uri": "https://localhost:8080/"
        },
        "id": "ZuUQ5ujH4Auw",
        "outputId": "a844800c-221b-4f67-ee08-c3557e11aa62"
      },
      "execution_count": 41,
      "outputs": [
        {
          "output_type": "stream",
          "name": "stdout",
          "text": [
            "[[3 5 5 9 5]\n",
            " [3 5 7 9 7]\n",
            " [5 9 5 7 5]]\n"
          ]
        }
      ]
    },
    {
      "cell_type": "code",
      "source": [
        "'''------------------------------RANDOM PERMUTATION: shuffle() and permutation()------------------------'''\n",
        "\n",
        "# Permutation is an arrangement of elements, e.g. [3, 2, 1] is a permutation of [1, 2, 3] and vice-versa.\n",
        "\n",
        "#========Shuffling Arrays: changing arrangement of elements IN-PLACE===============\n",
        "\n",
        "from numpy import random\n",
        "import numpy as np\n",
        "\n",
        "arr = np.array([1,2,3,4,5])\n",
        "random.shuffle(arr) #shuffle() CHANGES THE ORDER OF ELEMENTS IN ORIGINAL ARRAY\n",
        "print(arr) #randomly shuffled array printed on every run"
      ],
      "metadata": {
        "colab": {
          "base_uri": "https://localhost:8080/"
        },
        "id": "4KoogDnGyHU3",
        "outputId": "7af7fcf4-6c10-424e-a590-15dff1b763da"
      },
      "execution_count": 44,
      "outputs": [
        {
          "output_type": "stream",
          "name": "stdout",
          "text": [
            "[4 5 2 1 3]\n"
          ]
        }
      ]
    },
    {
      "cell_type": "code",
      "source": [
        "x = random.permutation(arr) #this DOES NOT change the original array\n",
        "\n",
        "print(x) # random permutation of 'arr' is printed; original 'arr' is unchanged\n",
        "print(arr)"
      ],
      "metadata": {
        "colab": {
          "base_uri": "https://localhost:8080/"
        },
        "id": "7JLE4nEs4TuE",
        "outputId": "f3e775d7-5a07-43e5-d205-e7ef5cbc1b8e"
      },
      "execution_count": 45,
      "outputs": [
        {
          "output_type": "stream",
          "name": "stdout",
          "text": [
            "[3 5 4 1 2]\n",
            "[4 5 2 1 3]\n"
          ]
        }
      ]
    },
    {
      "cell_type": "code",
      "source": [
        "'''----------------------------------------SEABORN LIBRARY-----------------------------------------'''\n",
        "\n",
        "# Seaborn is a library that uses Matplotlib to plot graphs to VISUALIZE random distributions.\n",
        "# DISTPLOT or distribution plot takes as input an array and plots a curve corresponding to the distribution of points in array.\n",
        "\n",
        "import seaborn as sns\n",
        "import matplotlib.pyplot as plt\n",
        "\n",
        "arr = [-2, -1, 0, 1, 2, 3, 4, 5]\n",
        "sns.kdeplot(arr) # try 'displot(arr)' too\n",
        "plt.show()"
      ],
      "metadata": {
        "colab": {
          "base_uri": "https://localhost:8080/",
          "height": 430
        },
        "id": "Vb8ta-BKyaTR",
        "outputId": "ca991858-3674-44b2-a399-b66f309be991"
      },
      "execution_count": 49,
      "outputs": [
        {
          "output_type": "display_data",
          "data": {
            "text/plain": [
              "<Figure size 640x480 with 1 Axes>"
            ],
            "image/png": "[encoded data removed]"
          },
          "metadata": {}
        }
      ]
    },
    {
      "cell_type": "code",
      "source": [
        "sns.displot(arr)\n",
        "plt.show()"
      ],
      "metadata": {
        "colab": {
          "base_uri": "https://localhost:8080/",
          "height": 506
        },
        "id": "hw-CuldS4vzE",
        "outputId": "dd5ac3ac-37f5-497f-e715-e5275cecf26d"
      },
      "execution_count": 52,
      "outputs": [
        {
          "output_type": "display_data",
          "data": {
            "text/plain": [
              "<Figure size 500x500 with 1 Axes>"
            ],
            "image/png": "[encoded data removed]"
          },
          "metadata": {}
        }
      ]
    },
    {
      "cell_type": "code",
      "source": [
        "'''------------------------------------------- NORMAL DISTRIBUTION (CONTINUOUS) ------------------------\n",
        "\n",
        "Aka Gaussian Distribution (or Continuous Dist.). It fits the probability distribution of many events, eg. IQ Scores, Heartbeat etc. Height of people is\n",
        "normal dist. as it can be 170, 170.1, 170.11 and so on.\n",
        "\n",
        "The random.normal() method gets a Normal Data Distribution. It has three parameters:\n",
        ">>loc - (Mean) where peak of bell curve exists\n",
        ">>scale - (Std Devn) how flat the graph distribution should be\n",
        ">> size - Shape of returned array'''\n",
        "\n",
        "import seaborn as sns\n",
        "import matplotlib.pyplot as plt\n",
        "from numpy import random\n",
        "\n",
        "x = random.normal(loc = 1, scale = 2, size = (2, 3))\n",
        "print(x)\n",
        "sns.displot(random.normal(loc=1, scale=2, size=20))  # visualizing normal distribution\n",
        "plt.show()"
      ],
      "metadata": {
        "colab": {
          "base_uri": "https://localhost:8080/",
          "height": 541
        },
        "id": "9lDmF-5Yyb-m",
        "outputId": "32beba71-7f55-45a7-940a-c9e3fff281a7"
      },
      "execution_count": 54,
      "outputs": [
        {
          "output_type": "stream",
          "name": "stdout",
          "text": [
            "[[-0.85388322  3.59370029  5.13594026]\n",
            " [ 1.34580867 -0.07895336 -0.73159094]]\n"
          ]
        },
        {
          "output_type": "display_data",
          "data": {
            "text/plain": [
              "<Figure size 500x500 with 1 Axes>"
            ],
            "image/png": "[encoded data removed]"
          },
          "metadata": {}
        }
      ]
    },
    {
      "cell_type": "code",
      "source": [
        "'''-------------------------------------------BINOMIAL DISTRIBUTION (DISCRETE)------------------------\n",
        "\n",
        "Aka 'Discrete Distribution', it describes outcome of binary scenarios, e.g. toss of a coin for head/tail. Discrete Distribution is defined\n",
        "at separate set of events, e.g. a coin toss's result is discrete as it can ONLY be head or tails.\n",
        "\n",
        "It has three parameters:\n",
        ">>n - no. of trials.\n",
        ">>p - probability of occurence of each trial (e.g. for toss of coin, 0.5 each).\n",
        ">>size - Shape of the returned array.'''\n",
        "\n",
        "from numpy import random\n",
        "import matplotlib.pyplot as plt\n",
        "import seaborn as sns\n",
        "\n",
        "x = random.binomial(n=10, p=0.5, size=100) #random bino dist as 1D list of 10 elements; if size = (5, 2), it assigns a 2D array to x\n",
        "print(x)\n",
        "sns.histplot(x, kde = True)\n",
        "plt.show()"
      ],
      "metadata": {
        "colab": {
          "base_uri": "https://localhost:8080/",
          "height": 484
        },
        "id": "4D7CiUfEyXy2",
        "outputId": "f555e5d7-671e-41aa-ac8a-7d0700367e00"
      },
      "execution_count": 55,
      "outputs": [
        {
          "output_type": "stream",
          "name": "stdout",
          "text": [
            "[6 7 7 7 4 5 4 5 4 5 6 7 7 6 4 5 4 8 4 3 6 6 3 5 2 6 7 6 5 3 4 4 3 4 7 3 5\n",
            " 6 3 6 2 7 4 6 7 5 5 4 3 5 5 5 5 2 6 8 6 3 6 5 7 4 5 6 2 7 4 5 8 7 5 6 7 7\n",
            " 4 6 4 6 7 1 5 6 3 5 5 5 4 4 4 3 4 6 3 6 5 4 7 5 5 2]\n"
          ]
        },
        {
          "output_type": "display_data",
          "data": {
            "text/plain": [
              "<Figure size 640x480 with 1 Axes>"
            ],
            "image/png": "[encoded data removed]"
          },
          "metadata": {}
        }
      ]
    },
    {
      "cell_type": "code",
      "source": [
        "sns.histplot(random.binomial(n=200, p=0.5, size=500), kde=True) # if kde=False, no curve.\n",
        "plt.show()"
      ],
      "metadata": {
        "colab": {
          "base_uri": "https://localhost:8080/",
          "height": 430
        },
        "id": "GTwSnjHv7j3e",
        "outputId": "8587fddf-96d4-4d69-b9e6-1cc2c9ba1c82"
      },
      "execution_count": 56,
      "outputs": [
        {
          "output_type": "display_data",
          "data": {
            "text/plain": [
              "<Figure size 640x480 with 1 Axes>"
            ],
            "image/png": "[encoded data removed]"
          },
          "metadata": {}
        }
      ]
    },
    {
      "cell_type": "code",
      "source": [
        "#=================== Normal & Binomial Distributions Plotted Together ====================\n",
        "\n",
        "sns.displot(random.normal(loc=50, scale=5, size=1000), kde = True, label='normal') #set 'kde=True' for plotting a curve too\n",
        "sns.displot(random.binomial(n=100, p=0.5, size=1000), kde = True, label='binomial')\n",
        "plt.legend() #for displaying labels (legends) on plot\n",
        "plt.show()"
      ],
      "metadata": {
        "colab": {
          "base_uri": "https://localhost:8080/",
          "height": 995
        },
        "id": "EWLeyIeJ7iyQ",
        "outputId": "19b9926d-c227-407f-b4e4-e14d92b2484d"
      },
      "execution_count": 62,
      "outputs": [
        {
          "output_type": "display_data",
          "data": {
            "text/plain": [
              "<Figure size 500x500 with 1 Axes>"
            ],
            "image/png": "[encoded data removed]"
          },
          "metadata": {}
        },
        {
          "output_type": "display_data",
          "data": {
            "text/plain": [
              "<Figure size 500x500 with 1 Axes>"
            ],
            "image/png": "[encoded data removed]"
          },
          "metadata": {}
        }
      ]
    },
    {
      "cell_type": "code",
      "source": [
        "'''-------------------------------------------POISSON DISTRIBUTION (DISCRETE)------------------------\n",
        "Estimates how many times an event can happen in a specified time. e.g. someone eats twice a day what is the probability he will eat thrice?\n",
        "It has two parameters:   >>lam - rate or known number of occurrences e.g. 2 for above problem.   >>size - The shape of the returned array.'''\n",
        "\n",
        "from numpy import random\n",
        "import matplotlib.pyplot as plt\n",
        "import seaborn as sns\n",
        "\n",
        "sns.histplot(random.poisson(lam=20, size=10000), kde=True)\n",
        "plt.show()"
      ],
      "metadata": {
        "colab": {
          "base_uri": "https://localhost:8080/",
          "height": 430
        },
        "id": "70XUbBLJyV88",
        "outputId": "621f6208-9191-4772-9f0b-79f1c7057107"
      },
      "execution_count": 59,
      "outputs": [
        {
          "output_type": "display_data",
          "data": {
            "text/plain": [
              "<Figure size 640x480 with 1 Axes>"
            ],
            "image/png": "[encoded data removed]"
          },
          "metadata": {}
        }
      ]
    },
    {
      "cell_type": "code",
      "source": [
        "#===================Normal & Poisson Dist Plotted Together\n",
        "\n",
        "sns.histplot(random.poisson(lam=20, size=1000), label='Poisson', kde=True)\n",
        "sns.histplot(random.normal(loc=20, scale=5, size=1000), label='Normal', kde=True) #if 'lam' and 'loc' values are diff, histograms won't overlap much\n",
        "plt.legend()\n",
        "plt.show()"
      ],
      "metadata": {
        "colab": {
          "base_uri": "https://localhost:8080/",
          "height": 430
        },
        "id": "btwEVlSc8lh4",
        "outputId": "a4ebd67e-a112-46d4-9351-fa8455b06e1f"
      },
      "execution_count": 60,
      "outputs": [
        {
          "output_type": "display_data",
          "data": {
            "text/plain": [
              "<Figure size 640x480 with 1 Axes>"
            ],
            "image/png": "[encoded data removed]"
          },
          "metadata": {}
        }
      ]
    },
    {
      "cell_type": "code",
      "source": [
        "#===================Binomial & Poisson Dist Plotted Together\n",
        "'''for very large n and near-zero p, binomial dist is near identical to poisson dist such that n*p is nearly equal to 'lam'.'''\n",
        "sns.histplot(random.poisson(lam=10, size=1000), label='Poisson', kde=True)\n",
        "sns.histplot(random.binomial(n=1000, p=0.01, size=1000), label='Binomial', kde=True)\n",
        "plt.legend()\n",
        "plt.show()"
      ],
      "metadata": {
        "colab": {
          "base_uri": "https://localhost:8080/",
          "height": 430
        },
        "id": "D7FWCizw8mdJ",
        "outputId": "e328a1c5-4953-4b60-955d-ef13fe866778"
      },
      "execution_count": 63,
      "outputs": [
        {
          "output_type": "display_data",
          "data": {
            "text/plain": [
              "<Figure size 640x480 with 1 Axes>"
            ],
            "image/png": "[encoded data removed]"
          },
          "metadata": {}
        }
      ]
    },
    {
      "cell_type": "code",
      "source": [
        "'''-------------------------------------------UNIFORM DISTRIBUTION (DISCRETE)------------------------\n",
        "\n",
        "It's describes probability where every event has EQUAL chances of occuring. E.g. Generation of random numbers. It has three parameters:\n",
        ">> a - lower bound (default 0.0)   >> b - upper bound (default 1.0)   >> size - The shape of the returned array'''\n",
        "\n",
        "from numpy import random\n",
        "import matplotlib.pyplot as plt\n",
        "import seaborn as sns\n",
        "\n",
        "x = random.uniform(size=(2, 3));  print(x) #prints a list of 2D, 2X3 array\n",
        "sns.histplot(random.uniform(size=1000), kde=True)\n",
        "plt.show()"
      ],
      "metadata": {
        "colab": {
          "base_uri": "https://localhost:8080/",
          "height": 465
        },
        "id": "SFik00eyyS40",
        "outputId": "dada055b-de18-40e9-b2a9-e8f8e3f8c7ae"
      },
      "execution_count": 64,
      "outputs": [
        {
          "output_type": "stream",
          "name": "stdout",
          "text": [
            "[[0.90445775 0.2326287  0.86941711]\n",
            " [0.03469102 0.15147878 0.14135728]]\n"
          ]
        },
        {
          "output_type": "display_data",
          "data": {
            "text/plain": [
              "<Figure size 640x480 with 1 Axes>"
            ],
            "image/png": "[encoded data removed]"
          },
          "metadata": {}
        }
      ]
    },
    {
      "cell_type": "code",
      "source": [
        "'''------------------------------------------- LOGISTIC DISTRIBUTION ------------------------\n",
        "\n",
        "It's used to describe growth. Used extensively in ML in logistic regression, neural networks etc. It has three parameters:\n",
        ">>loc - mean, where the peak of curve is. Default 0.\n",
        ">>scale - std devn, flatness of distribution. Default 1.\n",
        ">>size - shape of returned array.'''\n",
        "\n",
        "from numpy import random\n",
        "import matplotlib.pyplot as plt\n",
        "import seaborn as sns\n",
        "\n",
        "x = random.logistic(loc=1, scale=2, size=(2, 3)); print(x) #prints a list of 2D, 2X3 array of +VE and sometimes -VE floats\n",
        "sns.histplot(random.logistic(loc=10, scale=5, size=1000), kde=True)\n",
        "plt.show()"
      ],
      "metadata": {
        "colab": {
          "base_uri": "https://localhost:8080/",
          "height": 465
        },
        "id": "o4mhpX13yQiG",
        "outputId": "e20ac54a-a54b-469d-c2eb-6351e57bb015"
      },
      "execution_count": 65,
      "outputs": [
        {
          "output_type": "stream",
          "name": "stdout",
          "text": [
            "[[ 0.10388709  3.16915812  1.99967725]\n",
            " [ 2.43390666  6.83777755 -1.77830052]]\n"
          ]
        },
        {
          "output_type": "display_data",
          "data": {
            "text/plain": [
              "<Figure size 640x480 with 1 Axes>"
            ],
            "image/png": "[encoded data removed]"
          },
          "metadata": {}
        }
      ]
    },
    {
      "cell_type": "code",
      "source": [
        "#===================Normal & Logistic Dist Plotted Together\n",
        "\n",
        "'''Both distribns are near identical, but Log dist has more area under the tails, meaning it represents more possibility of occurrence of an event further\n",
        "away from mean. For higher value of 'scale' (standard deviation), the normal and logistic distributions are near identical apart from the peak.'''\n",
        "\n",
        "sns.histplot(random.normal(scale=20, size=1000), kde=True, label='normal')\n",
        "sns.histplot(random.logistic(scale=20, size=1000), kde=True, label='logistic')\n",
        "plt.legend(); plt.show()"
      ],
      "metadata": {
        "colab": {
          "base_uri": "https://localhost:8080/",
          "height": 430
        },
        "id": "Ys--C0IbD-ja",
        "outputId": "14e5c4e1-3faa-4110-b298-9a65281f51d7"
      },
      "execution_count": 66,
      "outputs": [
        {
          "output_type": "display_data",
          "data": {
            "text/plain": [
              "<Figure size 640x480 with 1 Axes>"
            ],
            "image/png": "[encoded data removed]"
          },
          "metadata": {}
        }
      ]
    },
    {
      "cell_type": "code",
      "source": [
        "'''-------------------------------------------MULTINOMIAL DISTRIBUTION------------------------\n",
        "\n",
        "Multinomial distribution is a generalization of binomial distribution. It describes outcomes of multi-nomial scenarios unlike binomial where\n",
        "scenarios must be only one of two. e.g. Blood type of a population, dice outcomes. It has three parameters:\n",
        ">>n - no. of possible outcomes (e.g. 6 for dice)\n",
        ">>pvals - list of probabilties of outcomes (e.g. [1/6, 1/6, 1/6, 1/6, 1/6, 1/6] for dice roll).\n",
        ">>size - shape of returned array.'''\n",
        "\n",
        "from numpy import random\n",
        "x = random.multinomial(n=6, pvals=[1/6, 1/6, 1/6, 1/6, 1/6, 1/6])\n",
        "print(x)\n",
        "sns.histplot(random.multinomial(n=6, pvals=[1/6, 1/6, 1/6, 1/6, 1/6, 1/6]))\n",
        "plt.show()\n",
        "sns.histplot(random.multinomial(n=10, pvals=[1/10,1/10,1/10,1/10,1/10,1/10,1/10,1/10,1/10,1/10]))\n",
        "plt.show()"
      ],
      "metadata": {
        "colab": {
          "base_uri": "https://localhost:8080/",
          "height": 860
        },
        "id": "9bet5Pz8yO6m",
        "outputId": "3420c26a-0275-4312-c170-1d248fa9c52c"
      },
      "execution_count": 68,
      "outputs": [
        {
          "output_type": "stream",
          "name": "stdout",
          "text": [
            "[1 1 2 1 1 0]\n"
          ]
        },
        {
          "output_type": "display_data",
          "data": {
            "text/plain": [
              "<Figure size 640x480 with 1 Axes>"
            ],
            "image/png": "[encoded data removed]"
          },
          "metadata": {}
        },
        {
          "output_type": "display_data",
          "data": {
            "text/plain": [
              "<Figure size 640x480 with 1 Axes>"
            ],
            "image/png": "[encoded data removed]"
          },
          "metadata": {}
        }
      ]
    },
    {
      "cell_type": "code",
      "source": [
        "'''-------------------------------------------EXPONENTIAL DISTRIBUTION------------------------\n",
        "\n",
        "It's used for describing time till next event e.g. failure/success etc. Poisson distribution deals with number of occurences of an event in\n",
        "a time period whereas exponential distribution deals with the time between these events. It has two parameters:\n",
        ">> scale - inverse of rate (see 'lam' in poisson distribution above) defaults to 1.0.\n",
        ">> size - The shape of the returned array.'''\n",
        "\n",
        "from numpy import random\n",
        "import matplotlib.pyplot as plt\n",
        "import seaborn as sns\n",
        "\n",
        "x = random.exponential(scale = 2, size = (2, 3))\n",
        "print(x)\n",
        "sns.histplot(random.exponential(scale = 20, size = 1000), kde = True)\n",
        "plt.show()"
      ],
      "metadata": {
        "colab": {
          "base_uri": "https://localhost:8080/",
          "height": 465
        },
        "id": "spGDuYj9yNZ-",
        "outputId": "d7d938e4-5ef3-458c-f5a8-e3dafeddc685"
      },
      "execution_count": 72,
      "outputs": [
        {
          "output_type": "stream",
          "name": "stdout",
          "text": [
            "[[11.83525136  0.22005758  1.41842438]\n",
            " [ 1.88971335  2.10613012  0.32630684]]\n"
          ]
        },
        {
          "output_type": "display_data",
          "data": {
            "text/plain": [
              "<Figure size 640x480 with 1 Axes>"
            ],
            "image/png": "[encoded data removed]"
          },
          "metadata": {}
        }
      ]
    },
    {
      "cell_type": "code",
      "source": [
        "'''-------------------------------------------CHI SQUARE DISTRIBUTION------------------------\n",
        "\n",
        "It used as a basis to verify the hypothesis. It has two parameters: >>df - degree of freedom  >>size - shape of returned array.'''\n",
        "\n",
        "from numpy import random\n",
        "import matplotlib.pyplot as plt\n",
        "import seaborn as sns\n",
        "\n",
        "x = random.chisquare(df = 2, size = (2, 3))\n",
        "print(x)\n",
        "sns.histplot(random.chisquare(df = 2, size = 1000), kde = True)\n",
        "plt.show()"
      ],
      "metadata": {
        "colab": {
          "base_uri": "https://localhost:8080/",
          "height": 465
        },
        "id": "MPwOdcZzyMbt",
        "outputId": "5c2ee5fc-a22b-4e5b-b79d-dce78da9e8a8"
      },
      "execution_count": 73,
      "outputs": [
        {
          "output_type": "stream",
          "name": "stdout",
          "text": [
            "[[1.64511435 2.16245512 6.72333711]\n",
            " [1.73960383 1.81327062 1.30263798]]\n"
          ]
        },
        {
          "output_type": "display_data",
          "data": {
            "text/plain": [
              "<Figure size 640x480 with 1 Axes>"
            ],
            "image/png": "[encoded data removed]"
          },
          "metadata": {}
        }
      ]
    },
    {
      "cell_type": "code",
      "source": [
        "'''-------------------------------------------PARETO DISTRIBUTION------------------------\n",
        "\n",
        "It reflects Pareto's law (i.e. 20% factors cause 80% outcome). Has 2 parameters: >>a - shape parameter  >>size - shape of returned array.'''\n",
        "\n",
        "from numpy import random\n",
        "import matplotlib.pyplot as plt\n",
        "import seaborn as sns\n",
        "\n",
        "x = random.pareto(a = 2, size = (2, 3))\n",
        "print(x)\n",
        "sns.histplot(random.pareto(a = 20, size = 1000), kde = True)\n",
        "plt.show()"
      ],
      "metadata": {
        "colab": {
          "base_uri": "https://localhost:8080/",
          "height": 465
        },
        "id": "b5Qjw_5myKXD",
        "outputId": "ca7117ba-4681-41f2-d7d9-57899d4e18e9"
      },
      "execution_count": 74,
      "outputs": [
        {
          "output_type": "stream",
          "name": "stdout",
          "text": [
            "[[0.44789985 0.371601   5.01006731]\n",
            " [1.78831467 0.02798721 0.29456488]]\n"
          ]
        },
        {
          "output_type": "display_data",
          "data": {
            "text/plain": [
              "<Figure size 640x480 with 1 Axes>"
            ],
            "image/png": "[encoded data removed]"
          },
          "metadata": {}
        }
      ]
    },
    {
      "cell_type": "code",
      "source": [
        "'''-------------------------------------------ZIPF DISTRIBUTION------------------------\n",
        "\n",
        "Zipf's Law: In a collection, nth common term is 1/n times of most common term. E.g. 5th most common word in English occurs nearly 1/5 times\n",
        "as often as the most common word. It has two parameters:  >>a - distribution parameter.  >> size - The shape of the returned array.'''\n",
        "\n",
        "from numpy import random\n",
        "import matplotlib.pyplot as plt\n",
        "import seaborn as sns\n",
        "\n",
        "x = random.zipf(a = 2, size = (2, 3)); print(x)\n",
        "y = random.zipf(a = 2, size = 100); print(y)\n",
        "\n",
        "#Sample 1000 points but plotting only ones with value < 10 for more meaningful chart.\n",
        "x = random.zipf(a=2, size=1000)\n",
        "sns.histplot(x[ x < 10], kde = True)\n",
        "plt.show()"
      ],
      "metadata": {
        "colab": {
          "base_uri": "https://localhost:8080/",
          "height": 552
        },
        "id": "9wAH3WnVyJQv",
        "outputId": "e05cbdbe-a4fe-4d89-f638-e38ff24cfda7"
      },
      "execution_count": 75,
      "outputs": [
        {
          "output_type": "stream",
          "name": "stdout",
          "text": [
            "[[1 1 1]\n",
            " [1 1 1]]\n",
            "[ 1  6  1  1  2  1  1 32  2  1  1  1  1 45  1  7  2  1  3  3  1  3  6  1\n",
            "  2  1  1 10  2  6 15  1  1  1 11  1  1  1  1  1  2  1  1  2  2  1  1  1\n",
            "  1  2  1  1  1  3  1  2  1  1  1  1  1 11  1  2  1  3  3 37  1  4  1  4\n",
            "  1  1  1  1  1  1  1  7  1  3  1  1  3  1  3  3  1  3  3  1  1  1  1  1\n",
            "  2  1  3  3]\n"
          ]
        },
        {
          "output_type": "display_data",
          "data": {
            "text/plain": [
              "<Figure size 640x480 with 1 Axes>"
            ],
            "image/png": "[encoded data removed]"
          },
          "metadata": {}
        }
      ]
    },
    {
      "cell_type": "markdown",
      "source": [
        "# **NumPy Ufuncs**"
      ],
      "metadata": {
        "id": "exnfLuoTP1HJ"
      }
    },
    {
      "cell_type": "markdown",
      "source": [
        "Ufuncs stands for \"Universal Functions\" and they are NumPy functions that operate on ```ndarray``` object. ufuncs are used to implement VECTORIZATION in NumPy which is way faster than iterating over elements. They also provide broadcasting and additional methods like ```reduce```, ```accumulate``` etc. that are very helpful for computation. ufuncs also take additional arguments, for example:\n",
        "\n",
        "```where``` - boolean array or condition defining where the operations should take place.\n",
        "\n",
        "```dtype``` - defining the return type of elements.\n",
        "\n",
        "```out``` - output array where the return value should be copied."
      ],
      "metadata": {
        "id": "PPseGydtFvEb"
      }
    },
    {
      "cell_type": "code",
      "source": [
        "#VECTORIZATION: Converting iterative stmts into a vector-based operation is called vectorization. One way to do this (WITHOUT unfuncs) is as ahead:\n",
        "\n",
        "lis1 = [1, 2, 3, 4]\n",
        "lis2 = [4, 5, 6, 7]\n",
        "res = []\n",
        "for i, j in zip(lis1, lis2):\n",
        "  res.append(i + j) #using zip() fn (NO ufuncs USED HERE)\n",
        "print(res)"
      ],
      "metadata": {
        "colab": {
          "base_uri": "https://localhost:8080/"
        },
        "id": "NsCzdpEzP3eh",
        "outputId": "4c62069c-7899-41a0-e2a5-f9b5c90a87d8"
      },
      "execution_count": 76,
      "outputs": [
        {
          "output_type": "stream",
          "name": "stdout",
          "text": [
            "[5, 7, 9, 11]\n"
          ]
        }
      ]
    },
    {
      "cell_type": "code",
      "source": [
        "#With a ufunc, we can use the add() fn of NumPy:\n",
        "\n",
        "import numpy as np\n",
        "\n",
        "lis1 = [1, 2, 3, 4]\n",
        "lis2 = [4, 5, 6, 7]\n",
        "res = np.add(lis1, lis2)\n",
        "print(res)\n",
        "# print(np.subtract(lis1, lis2)) #np.subtract() is another ufunc, for example"
      ],
      "metadata": {
        "colab": {
          "base_uri": "https://localhost:8080/"
        },
        "id": "b1C9iNlSGMWJ",
        "outputId": "2f81238b-1ef6-47e9-d0b9-05de324466c8"
      },
      "execution_count": 77,
      "outputs": [
        {
          "output_type": "stream",
          "name": "stdout",
          "text": [
            "[ 5  7  9 11]\n"
          ]
        }
      ]
    },
    {
      "cell_type": "code",
      "source": [
        "'''------------------------------------------CREATING YOUR OWN ufunc--------------------------------------------\n",
        "\n",
        "To create your own ufunc, you have to define a fn, like you do with normal fns in Python.\n",
        "Next, add it to NumPy ufunc library with the 'frompyfunc()' fn.\n",
        "This fn takes following args:\n",
        ">>function - name of the function\n",
        ">>inputs - number of input arguments (arrays)\n",
        ">>outputs - number of output arrays.'''\n",
        "\n",
        "import numpy as np\n",
        "\n",
        "def myAdd(x, y):\n",
        "  return x + y\n",
        "\n",
        "myadd = np.frompyfunc(myAdd, 2, 1)\n",
        "print(myAdd([1,2,3,4], [5,6,7,8]))\n",
        "print(type(myAdd))          #<class 'numpy.ufunc'> tells 'myAdd' is a ufunc\n",
        "print(type(np.concatenate)) #<class 'numpy._ArrayFunctionDispatcher'>"
      ],
      "metadata": {
        "colab": {
          "base_uri": "https://localhost:8080/"
        },
        "id": "cfz451F-GSeo",
        "outputId": "9b8b6490-cb21-4870-b0cf-56efc474aeae"
      },
      "execution_count": 81,
      "outputs": [
        {
          "output_type": "stream",
          "name": "stdout",
          "text": [
            "[1, 2, 3, 4, 5, 6, 7, 8]\n",
            "<class 'function'>\n",
            "<class 'numpy._ArrayFunctionDispatcher'>\n"
          ]
        }
      ]
    },
    {
      "cell_type": "code",
      "source": [
        "'''----------------------------------- ARTIHMETIC OF unfuncs ---------------------------------------------\n",
        "\n",
        "You could use arith operators + - * / directly b/w NumPy arrays but this section discusses an extension of the same where we have functions that\n",
        "can take any array-like objects e.g. lists, tuples etc. and perform arithmetic CONDITIONALLY (means that we can define conditions where arith.\n",
        "opern should happen. All of the discussed arithmetic functions take a 'where' parameter in which we can specify that condition.'''\n",
        "\n",
        "arr1 = np.array([10, 11, 12, 13, 14, 15])\n",
        "arr2 = np.array([20, 21, 22, 23, 24, 25])\n",
        "print('Additions : ', np.add(arr1, arr2))\n",
        "print('Subtractions : ', np.subtract(arr1, arr2))\n",
        "print('Multiplications : ', np.multiply(arr1, arr2))\n",
        "print('Divisions : ', np.divide(arr1, arr2))\n",
        "print('Exponentiations : ', np.power(arr1, arr2)) #'arr1' raised to power 'arr2'\n",
        "print('Remainders : ', np.mod(arr1, arr2)) # 1st array divided by 2nd array; 'np.remainder()' fn yields same results\n",
        "print('Quotients & mods : ', np.divmod([10, 20, 40], [3, 7, 8]))\n",
        "print('Absolutes : ', np.absolute([-1, -2, 1, 2, 3, -4])) # abs() fn yields same results but it is inbuilt 'math.abs()' & not NumPy"
      ],
      "metadata": {
        "colab": {
          "base_uri": "https://localhost:8080/"
        },
        "id": "pqTOSqyUHE68",
        "outputId": "e22a94a7-f1fd-4e6a-930b-5540aa3721e9"
      },
      "execution_count": 82,
      "outputs": [
        {
          "output_type": "stream",
          "name": "stdout",
          "text": [
            "Additions :  [30 32 34 36 38 40]\n",
            "Subtractions :  [-10 -10 -10 -10 -10 -10]\n",
            "Multiplications :  [200 231 264 299 336 375]\n",
            "Divisions :  [0.5        0.52380952 0.54545455 0.56521739 0.58333333 0.6       ]\n",
            "Exponentiations :  [ 7766279631452241920  3105570700629903195  5729018530666381312\n",
            " -4649523274362944347 -1849127232522420224  1824414961309619599]\n",
            "Remainders :  [10 11 12 13 14 15]\n",
            "Quotients & mods :  (array([3, 2, 5]), array([1, 6, 0]))\n",
            "Absolutes :  [1 2 1 2 3 4]\n"
          ]
        }
      ]
    },
    {
      "cell_type": "code",
      "source": [
        "'''--------------------------------------ROUNDING DECIMALS----------------------------------------------'''\n",
        "\n",
        "print('Truncation:', np.trunc([-3.5, 3.5])) #[-3.  3.]\n",
        "print('Truncation using fix() fn:', np.fix([-3.16667, 3.16667])) #[-3.  3.]\n",
        "print('The around() fn:', np.around([3.46, 3.58, -3.58, -3.40])) #[ 3.  4. -4. -3.] ; around() fn incr preceding digit/decimal by 1 ONLY if >=5\n",
        "print('Flooring:', np.floor([-3.06, 3.14, 3.667, 3.56])) #[-4.  3.  3.  3.] ; rounds off decimal to nearest LOWER integer\n",
        "print('Ceiling:', np.ceil([-3.06, -3.99, 3.14, 3.56])) #[-3. -3.  4.  4.] ; rounds off decimal to nearest HIGHER integer"
      ],
      "metadata": {
        "colab": {
          "base_uri": "https://localhost:8080/"
        },
        "id": "ke3Jcd-qHtm-",
        "outputId": "5edc4cc0-e791-4be9-b76e-0286f9d51c3c"
      },
      "execution_count": 83,
      "outputs": [
        {
          "output_type": "stream",
          "name": "stdout",
          "text": [
            "Truncation: [-3.  3.]\n",
            "Truncation using fix() fn: [-3.  3.]\n",
            "The around() fn: [ 3.  4. -4. -3.]\n",
            "Flooring: [-4.  3.  3.  3.]\n",
            "Ceiling: [-3. -3.  4.  4.]\n"
          ]
        }
      ]
    },
    {
      "cell_type": "code",
      "source": [
        "'''--------------------------------------unfunc LOGARITHMS----------------------------------------------\n",
        "\n",
        "NumPy provides fns to perform log at base 2, e & 10. We can take log for any base by creating a custom ufunc.\n",
        "All of the log functions will place '-inf' or 'inf' in the elements if log can not be computed.'''\n",
        "\n",
        "arr = np.arange(1, 11) #arange(1, n) yields an array of [1 ... n-1]\n",
        "\n",
        "print(np.log2(arr), '\\n')  # base-2 log of all values in 'arr'\n",
        "print(np.log10(arr), '\\n') # base-10 log of all values in 'arr'\n",
        "print(np.log(arr))         # base-e log"
      ],
      "metadata": {
        "colab": {
          "base_uri": "https://localhost:8080/"
        },
        "id": "ShNmB2OEITlt",
        "outputId": "aed4a146-fd31-422e-851b-21fbc157a662"
      },
      "execution_count": 85,
      "outputs": [
        {
          "output_type": "stream",
          "name": "stdout",
          "text": [
            "[0.         1.         1.5849625  2.         2.32192809 2.5849625\n",
            " 2.80735492 3.         3.169925   3.32192809] \n",
            "\n",
            "[0.         0.30103    0.47712125 0.60205999 0.69897    0.77815125\n",
            " 0.84509804 0.90308999 0.95424251 1.        ] \n",
            "\n",
            "[0.         0.69314718 1.09861229 1.38629436 1.60943791 1.79175947\n",
            " 1.94591015 2.07944154 2.19722458 2.30258509]\n"
          ]
        }
      ]
    },
    {
      "cell_type": "code",
      "source": [
        "#=======Logarithm to any base: NumPy doesn't provide fn to take log at any base, use 'frompyfunc()' with inbuilt 'math.log()' with 2 input params & 1 output\n",
        "\n",
        "from math import log\n",
        "import numpy as np\n",
        "\n",
        "nplog = np.frompyfunc(log, 2, 1) #2 inputs, 1 output\n",
        "\n",
        "print(nplog(100, 15)) # base-15 log of 100\n",
        "print(nplog(100, 10)) # base-10 log of 100"
      ],
      "metadata": {
        "colab": {
          "base_uri": "https://localhost:8080/"
        },
        "id": "psvHir7DIlUW",
        "outputId": "a85b535c-0c06-49cb-e92e-92b2ce90ecb8"
      },
      "execution_count": 86,
      "outputs": [
        {
          "output_type": "stream",
          "name": "stdout",
          "text": [
            "1.7005483074552052\n",
            "2.0\n"
          ]
        }
      ]
    },
    {
      "cell_type": "code",
      "source": [
        "'''---------------------------------------SUMMATIONS------------------------------------------------------------\n",
        "\n",
        "Addition is done between two args whereas SUMMATION happens over n elements.'''\n",
        "\n",
        "arr1 = np.array([1, 2, 3])\n",
        "arr2 = np.array([1, 2, 3])\n",
        "\n",
        "print(np.add(arr1, arr2))"
      ],
      "metadata": {
        "colab": {
          "base_uri": "https://localhost:8080/"
        },
        "id": "yS1Zn1UxI5_5",
        "outputId": "6251dfcf-6146-4dac-9af6-44863002efeb"
      },
      "execution_count": 87,
      "outputs": [
        {
          "output_type": "stream",
          "name": "stdout",
          "text": [
            "[2 4 6]\n"
          ]
        }
      ]
    },
    {
      "cell_type": "code",
      "source": [
        "print(np.add(np.array([[1,2,3], [4,5,6]]), np.array([[7,8,9], [10,11,12]]))) #adding 2D arrays"
      ],
      "metadata": {
        "colab": {
          "base_uri": "https://localhost:8080/"
        },
        "id": "4RS9ElxMJJuI",
        "outputId": "f249fd89-1ae6-4216-cef9-551c49d1377f"
      },
      "execution_count": 88,
      "outputs": [
        {
          "output_type": "stream",
          "name": "stdout",
          "text": [
            "[[ 8 10 12]\n",
            " [14 16 18]]\n"
          ]
        }
      ]
    },
    {
      "cell_type": "code",
      "source": [
        "print(np.sum( [arr1, arr2] )) #[12] ; note 'arr1' & 'arr2' are passed in a LIST in sum()"
      ],
      "metadata": {
        "colab": {
          "base_uri": "https://localhost:8080/"
        },
        "id": "5tt5rmU-JNgO",
        "outputId": "728c390f-dfd3-416a-c929-e91efc5e3d9e"
      },
      "execution_count": 89,
      "outputs": [
        {
          "output_type": "stream",
          "name": "stdout",
          "text": [
            "12\n"
          ]
        }
      ]
    },
    {
      "cell_type": "code",
      "source": [
        "#---------SUMMATION OVER AN AXIS:\n",
        "\n",
        "#If you specify axis=1, NumPy will sum the numbers in each array.\n",
        "\n",
        "print(np.sum([arr1, arr2], axis = 1))\n",
        "print(np.sum( [ np.array([[1,2,3], [4,5,6]]), np.array([[7,8,9], [10,11,12]]) ]  ))"
      ],
      "metadata": {
        "colab": {
          "base_uri": "https://localhost:8080/"
        },
        "id": "5xUmF0kbJRIN",
        "outputId": "a806c8fd-a007-425e-ea82-da0619a46403"
      },
      "execution_count": 90,
      "outputs": [
        {
          "output_type": "stream",
          "name": "stdout",
          "text": [
            "[6 6]\n",
            "78\n"
          ]
        }
      ]
    },
    {
      "cell_type": "code",
      "source": [
        "#---------CUMULATIVE SUMMATION\n",
        "\n",
        "print(np.cumsum(np.array([1,2,3,4])))          #[1 3 6 10] ; aka PARTIAL SUMS\n",
        "print(np.cumsum(np.array([[1,2,3], [4,5,6]]))) #[ 1  3  6 10 15 21] ; 2D-array"
      ],
      "metadata": {
        "id": "kYsFDbTsJSKq"
      },
      "execution_count": null,
      "outputs": []
    },
    {
      "cell_type": "code",
      "source": [
        "print(np.cumsum(np.array([[1,2,3], [4,5,6]]), axis = 1))"
      ],
      "metadata": {
        "colab": {
          "base_uri": "https://localhost:8080/"
        },
        "id": "QF19K-cZJtfR",
        "outputId": "50561828-0ad2-4cc8-f0b5-01c73d9f9565"
      },
      "execution_count": 92,
      "outputs": [
        {
          "output_type": "stream",
          "name": "stdout",
          "text": [
            "[[ 1  3  6]\n",
            " [ 4  9 15]]\n"
          ]
        }
      ]
    },
    {
      "cell_type": "code",
      "source": [
        "print(np.add(np.array([[1,2,3], [4,5,6]]), np.array([[7,8,9], [10,11,12]])))"
      ],
      "metadata": {
        "colab": {
          "base_uri": "https://localhost:8080/"
        },
        "id": "aQL870pjJuXn",
        "outputId": "0de6b1d5-9801-42a2-a526-f387ba35dfb0"
      },
      "execution_count": 93,
      "outputs": [
        {
          "output_type": "stream",
          "name": "stdout",
          "text": [
            "[[ 8 10 12]\n",
            " [14 16 18]]\n"
          ]
        }
      ]
    },
    {
      "cell_type": "code",
      "source": [
        "'''-----------------------------------------PRODUCTS & CUMULATIVE PRODUCTS------------------------------------------------------------'''\n",
        "\n",
        "print(np.prod([1,2,3,4])) #[24]\n",
        "print(np.prod([[1,2], [5,6]])) #[60]\n",
        "print(np.prod([[3,4], [7,9]] , axis = 1)) #[12 63]\n",
        "print(np.cumprod([1,2,3,4])) #[1 2 6 24]\n",
        "print(np.cumprod([[1,2], [5,6]])) #[1 2 10 16]\n",
        "print(np.cumprod([[3,4], [7,9]] , axis = 1)) #[[3 12] [7 63]]"
      ],
      "metadata": {
        "colab": {
          "base_uri": "https://localhost:8080/"
        },
        "id": "JpjVPZV7JloH",
        "outputId": "58f592ce-7964-42fb-8b20-b45d795d19b8"
      },
      "execution_count": 95,
      "outputs": [
        {
          "output_type": "stream",
          "name": "stdout",
          "text": [
            "24\n",
            "60\n",
            "[12 63]\n",
            "[ 1  2  6 24]\n",
            "[ 1  2 10 60]\n",
            "[[ 3 12]\n",
            " [ 7 63]]\n"
          ]
        }
      ]
    },
    {
      "cell_type": "code",
      "source": [
        "'''----------------------------------------DIFFERENCES------------------------------------------------------------------\n",
        "\n",
        "Discrete difference means subtracting two successive elements. E.g. for [1, 2, 3, 4], the discrete difference would be [2-1, 3-2, 4-3] = [1, 1, 1]\n",
        "To find the discrete difference, use the diff() function.\n",
        "The opn can be done repeatedly by setting 'n'. E.g. for [1, 2, 3, 4], the discrete difference with n = 2 would be [2-1, 3-2, 4-3] = [1, 1, 1] ,\n",
        "then, since n=2, we do it once more, with the new result: [1-1, 1-1] = [0, 0]'''\n",
        "\n",
        "print(np.diff([1,2,5,9,4])) #[1 3 4 -5] ; 2-1, 5-2, 9-5, 4-9\n",
        "arr = np.array([10, 15 ,25, 5]) ; print(np.diff(arr, n = 2)) #[5 -30]\n"
      ],
      "metadata": {
        "id": "A0GALeXkarD4"
      },
      "execution_count": null,
      "outputs": []
    },
    {
      "cell_type": "code",
      "source": [
        "'''-----------------------------------------LCM & GCD--------------------------------------------------------------------------'''\n",
        "\n",
        "print(np.lcm(2,6)) #lcm() & gcd() each take only 2 numbers\n",
        "\n",
        "'''reduce() method will use the ufunc, in this case the lcm() function, on each element, and reduce the array by one dimension'''\n",
        "\n",
        "print(np.lcm.reduce([2,4,6,8,9]))              # [72]\n",
        "print(np.lcm.reduce([[3,4], [7,9]]))           # [21 36]\n",
        "print(np.lcm.reduce([[3,4], [7,9]], axis = 1)) # [12 63]\n",
        "print(np.lcm.reduce(np.arange(1,11)))          # 2520\n",
        "\n",
        "print(np.gcd(36, 54))                              # 18\n",
        "print(np.gcd.reduce([12,45,36,81,9]))              # 3\n",
        "print(np.gcd.reduce([[12,18], [28,48]]))           # [4 6]\n",
        "print(np.gcd.reduce([[12,18], [28,48]], axis = 1)) # [6 4]"
      ],
      "metadata": {
        "id": "-xW7j3kObBAS"
      },
      "execution_count": null,
      "outputs": []
    },
    {
      "cell_type": "code",
      "source": [
        "import numpy as np\n",
        "\n",
        "'''-------------------------------------TRIGONOMETRIC FNS: sine, cos, tan---------------------------------------------\n",
        "\n",
        "NumPy provides the ufuncs sin(), cos() and tan() that take values in radians and produce the corresponding sin, cos and tan values.'''\n",
        "print(np.sin(np.pi/2)) #1.0 ; sine (PI/2)\n",
        "print(np.cos(np.pi/2))\n",
        "print(np.cos(np.zeros((3,3))))\n",
        "'''[[1. 1. 1.]\n",
        " [1. 1. 1.]\n",
        " [1. 1. 1.]]'''\n",
        "\n",
        "print(np.tan(np.pi/4)) #0.9999999999999999\n",
        "\n",
        "print(np.deg2rad([90,180,270,360])) #DEGREES TO RADIANS\n",
        "print(np.rad2deg([1.57079633, 3.14159265, 4.71238898, 6.28318531])) #[ 90.00000018 179.99999979 269.99999998 360.00000016]\n",
        "\n",
        "#---------NumPy provides ufuncs arcsin(), arccos() and arctan() that produce radian values for corresponding sin, cos and tan values given.-----\n",
        "print(np.arcsin(1.0)) #1.5707963267948966\n",
        "print(np.arcsin([1, -1, 0.1])) #[ 1.57079633 -1.57079633  0.10016742]\n",
        "\n",
        "#---------Calculating HYPOTENUSE\n",
        "base = 3; perpendicular = 4\n",
        "print(np.hypot(base, perpendicular)) #5.0"
      ],
      "metadata": {
        "id": "sW30xJ0SbC2k"
      },
      "execution_count": null,
      "outputs": []
    },
    {
      "cell_type": "code",
      "source": [
        "'''-------------------------------------HYPERBOLIC FNS: sinh(), cosh(), tanh()---------------------------------------------\n",
        "\n",
        "ufuncs sinh(), cosh() and tanh() take values in RADIANS and produce the corresponding sinh, cosh and tanh values.'''\n",
        "\n",
        "print(np.sinh(np.pi/2)) #2.3012989023072947\n",
        "arr = np.array([np.pi/2, np.pi/3, np.pi/4, np.pi/5])\n",
        "print(np.cosh(arr))\n",
        "\n",
        "#--------Numpy provides ufuncs arcsinh(), arccosh() and arctanh() that produce radian values for corresponding sinh, cosh and tanh values given\n",
        "print(np.arcsinh(1.0)) #0.881373587019543\n",
        "\n",
        "#Find the angle for all of the tanh values in array:\n",
        "arr = np.array([0.1, 0.2, 0.5])\n",
        "x = np.arctanh(arr)\n",
        "print(x) #[0.10033535 0.20273255 0.54930614]"
      ],
      "metadata": {
        "id": "9jlFgxgTbFF_"
      },
      "execution_count": null,
      "outputs": []
    },
    {
      "cell_type": "code",
      "source": [
        "'''--------------------------------------------SET OPERATIONS--------------------------------------------------------'''\n",
        "\n",
        "#Use 'unique()' fn to find unique elements from any array. E.g. create a set array, but remember that the set arrays should only be 1-D arrays\n",
        "arr = np.array([1, 1, 1, 2, 3, 4, 5, 5, 6, 7])\n",
        "x = np.unique(arr); print(x) #[1 2 3 4 5 6 7]\n",
        "\n",
        "#UNION and INTERSECTION\n",
        "arr1 = np.array([1, 2, 3, 4]);  arr2 = np.array([3, 4, 5, 6])\n",
        "print(np.union1d(arr1, arr2)) #[1 2 3 4 5 6]\n",
        "print(np.intersect1d(arr1, arr2)) #[3 4]; fn's optional arg 'assume_unique' if set 'True' can incr speed; should always be set 'True' when using sets.\n",
        "\n",
        "#SET DIFFERENCE: subtract the common elements from the 1st array and display the rest of the elements of the 1st array.\n",
        "print(np.setdiff1d(arr1, arr2)) #[1 2]\n",
        "print(np.setdiff1d(arr2, arr1)) #[5 6]\n",
        "\n",
        "#SYMMETRIC DIFFERENCE: To find only the values that are NOT present in BOTH sets, use the setxor1d() method.\n",
        "print(np.setxor1d(arr1, arr2, assume_unique = True)) #[1 2 5 6]\n",
        "\n"
      ],
      "metadata": {
        "id": "yRjF3GOtbG-x"
      },
      "execution_count": null,
      "outputs": []
    }
  ]
}